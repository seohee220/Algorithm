{
 "cells": [
  {
   "cell_type": "markdown",
   "metadata": {},
   "source": [
    "# 눈금자 만들기"
   ]
  },
  {
   "cell_type": "markdown",
   "metadata": {},
   "source": [
    "### Ex1) \n",
    "Input : 메이저 눈금 길이 __4__, 자의 총 길이 __2__인치"
   ]
  },
  {
   "cell_type": "raw",
   "metadata": {},
   "source": [
    "Onput : 메이저 눈금의 길이가 4인 2인치 자\n",
    "\n",
    "---- 0\n",
    "-\n",
    "-- \n",
    "-\n",
    "--- \n",
    "-\n",
    "-- \n",
    "-\n",
    "---- 1\n",
    "-\n",
    "-- \n",
    "-\n",
    "--- \n",
    "-\n",
    "-- \n",
    "-\n",
    "---- 2"
   ]
  },
  {
   "cell_type": "markdown",
   "metadata": {},
   "source": [
    "### Ex2) \n",
    "Input : 메이저 눈금 길이 __5__, 자의 총 길이 __1__인치"
   ]
  },
  {
   "cell_type": "raw",
   "metadata": {},
   "source": [
    "Onput : 메이저 눈금의 길이가 5인 1인치 자\n",
    "\n",
    "----- 0\n",
    "-\n",
    "-- \n",
    "-\n",
    "--- \n",
    "-\n",
    "-- \n",
    "-\n",
    "---- \n",
    "-\n",
    "-- \n",
    "-\n",
    "--- \n",
    "-\n",
    "-- \n",
    "-\n",
    "----- 1"
   ]
  },
  {
   "cell_type": "markdown",
   "metadata": {},
   "source": [
    "# Algorithm"
   ]
  },
  {
   "cell_type": "code",
   "execution_count": 1,
   "metadata": {
    "collapsed": true
   },
   "outputs": [],
   "source": [
    "def get_tick_str(tick_length, inch_label=''):\n",
    "    tick='-' * tick_length + \" \"+inch_label\n",
    "    return tick"
   ]
  },
  {
   "cell_type": "code",
   "execution_count": 2,
   "metadata": {
    "collapsed": true
   },
   "outputs": [],
   "source": [
    "def make_unit(major_tick_length):\n",
    "    if(major_tick_length==1):\n",
    "        print('-')\n",
    "        return\n",
    "    make_unit(major_tick_length-1)\n",
    "    print(get_tick_str(major_tick_length))\n",
    "    make_unit(major_tick_length-1)"
   ]
  },
  {
   "cell_type": "code",
   "execution_count": 3,
   "metadata": {},
   "outputs": [],
   "source": [
    "def make_ruler(total_inch, major_tick_length):\n",
    "    inch = 0\n",
    "    print(get_tick_str(major_tick_length, str(inch)))\n",
    "    for ti in range(total_inch):\n",
    "        inch += 1\n",
    "        make_unit(major_tick_length-1)\n",
    "        print(get_tick_str(major_tick_length, str(inch)))"
   ]
  },
  {
   "cell_type": "markdown",
   "metadata": {},
   "source": [
    "# Solution"
   ]
  },
  {
   "cell_type": "code",
   "execution_count": 4,
   "metadata": {},
   "outputs": [
    {
     "name": "stdout",
     "output_type": "stream",
     "text": [
      "---- 0\n",
      "-\n",
      "-- \n",
      "-\n",
      "--- \n",
      "-\n",
      "-- \n",
      "-\n",
      "---- 1\n",
      "-\n",
      "-- \n",
      "-\n",
      "--- \n",
      "-\n",
      "-- \n",
      "-\n",
      "---- 2\n"
     ]
    }
   ],
   "source": [
    "make_ruler(2,4)"
   ]
  },
  {
   "cell_type": "code",
   "execution_count": 5,
   "metadata": {},
   "outputs": [
    {
     "name": "stdout",
     "output_type": "stream",
     "text": [
      "----- 0\n",
      "-\n",
      "-- \n",
      "-\n",
      "--- \n",
      "-\n",
      "-- \n",
      "-\n",
      "---- \n",
      "-\n",
      "-- \n",
      "-\n",
      "--- \n",
      "-\n",
      "-- \n",
      "-\n",
      "----- 1\n"
     ]
    }
   ],
   "source": [
    "make_ruler(1,5)"
   ]
  },
  {
   "cell_type": "code",
   "execution_count": 6,
   "metadata": {},
   "outputs": [
    {
     "name": "stdout",
     "output_type": "stream",
     "text": [
      "--- 0\n",
      "-\n",
      "-- \n",
      "-\n",
      "--- 1\n",
      "-\n",
      "-- \n",
      "-\n",
      "--- 2\n",
      "-\n",
      "-- \n",
      "-\n",
      "--- 3\n"
     ]
    }
   ],
   "source": [
    "make_ruler(3,3)"
   ]
  }
 ],
 "metadata": {
  "kernelspec": {
   "display_name": "Python 3",
   "language": "python",
   "name": "python3"
  },
  "language_info": {
   "codemirror_mode": {
    "name": "ipython",
    "version": 3
   },
   "file_extension": ".py",
   "mimetype": "text/x-python",
   "name": "python",
   "nbconvert_exporter": "python",
   "pygments_lexer": "ipython3",
   "version": "3.6.3"
  }
 },
 "nbformat": 4,
 "nbformat_minor": 2
}
