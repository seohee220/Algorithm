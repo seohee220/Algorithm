{
 "cells": [
  {
   "cell_type": "code",
   "execution_count": 20,
   "metadata": {
    "collapsed": true
   },
   "outputs": [],
   "source": [
    "def binary_search(sorted_list, target_value, low, high):\n",
    "    if low >= high:\n",
    "        print(\"No target value\")\n",
    "        return\n",
    "    mid = int((low+high)/2)\n",
    "    if target_value < sorted_list[mid]:\n",
    "        return binary_search(sorted_list, target_value, low, mid-1)\n",
    "    elif target_value > sorted_list[mid]:\n",
    "        return binary_search(sorted_list, target_value, mid+1, high)\n",
    "    else:\n",
    "        return mid"
   ]
  },
  {
   "cell_type": "code",
   "execution_count": 21,
   "metadata": {},
   "outputs": [
    {
     "name": "stdout",
     "output_type": "stream",
     "text": [
      "No target value\n"
     ]
    }
   ],
   "source": [
    "sorted_list = [1,3,4,5,7,8]\n",
    "target_value = 2\n",
    "low = 0\n",
    "high = len(sorted_list)-1\n",
    "\n",
    "binary_search(sorted_list, target_value, low, high)"
   ]
  }
 ],
 "metadata": {
  "kernelspec": {
   "display_name": "Python 3",
   "language": "python",
   "name": "python3"
  },
  "language_info": {
   "codemirror_mode": {
    "name": "ipython",
    "version": 3
   },
   "file_extension": ".py",
   "mimetype": "text/x-python",
   "name": "python",
   "nbconvert_exporter": "python",
   "pygments_lexer": "ipython3",
   "version": "3.6.3"
  }
 },
 "nbformat": 4,
 "nbformat_minor": 2
}
