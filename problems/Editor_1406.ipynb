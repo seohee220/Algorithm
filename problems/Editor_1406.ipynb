{
 "cells": [
  {
   "cell_type": "code",
   "execution_count": 3,
   "metadata": {
    "collapsed": true
   },
   "outputs": [],
   "source": [
    "class Editor:\n",
    "    def __init__(self):\n",
    "        self.string = list(raw_input())\n",
    "        self.cursor_position = len(self.string) #initial cursor position\n",
    "\n",
    "        n = input()\n",
    "        for i in range(n):\n",
    "            self.input_order(raw_input())\n",
    "        print self.get_result_str()\n",
    "        \n",
    "    def move_curser_to_left(self):\n",
    "        if self.cursor_position>0:\n",
    "            self.cursor_position-=1\n",
    "        elif self.cursor_position==0:\n",
    "            pass # nothing to do\n",
    "\n",
    "    def move_curser_to_right(self):\n",
    "        if self.cursor_position<len(self.string)+1:\n",
    "            self.cursor_position+=1\n",
    "        elif self.cursor_position==len(self.string)+1:\n",
    "            pass #nothing to do\n",
    "\n",
    "    def remove_left_letter(self):\n",
    "        self.string = self.string[:self.cursor_position-1]+self.string[self.cursor_position:]\n",
    "        self.cursor_position-=1\n",
    "\n",
    "    def add_left_letter(self,add_letter):\n",
    "#         self.string = self.string[:self.cursor_position]+add_letter+self.string[self.cursor_position:]\n",
    "        self.string = self.string[:self.cursor_position]+[add_letter]+self.string[self.cursor_position:]\n",
    "        self.cursor_position+=1\n",
    "\n",
    "    def input_order(self,order):\n",
    "        if len(order)==1:\n",
    "            if order=='L':\n",
    "                self.move_curser_to_left()\n",
    "            elif order=='D':\n",
    "                self.move_curser_to_right()\n",
    "            elif order=='B':\n",
    "                self.remove_left_letter()\n",
    "            else:\n",
    "                print ('This is wrong order. Please check again.')\n",
    "        elif len(order)==3 and order.find('P')==0:\n",
    "            self.add_left_letter(order.split()[1])\n",
    "\n",
    "    def get_result_str(self):\n",
    "        return ''.join(self.string)\n"
   ]
  },
  {
   "cell_type": "code",
   "execution_count": 4,
   "metadata": {
    "collapsed": false
   },
   "outputs": [
    {
     "name": "stdout",
     "output_type": "stream",
     "text": [
      "abcd\n",
      "4\n",
      "P x\n",
      "P y\n",
      "L\n",
      "D\n",
      "abcdxy\n"
     ]
    },
    {
     "data": {
      "text/plain": [
       "<__main__.Editor instance at 0x103adfea8>"
      ]
     },
     "execution_count": 4,
     "metadata": {},
     "output_type": "execute_result"
    }
   ],
   "source": [
    "Editor()"
   ]
  },
  {
   "cell_type": "markdown",
   "metadata": {},
   "source": [
    "#### Source : BAEKJOON ONLINE JUDGE\n",
    "https://www.acmicpc.net/status/?user_id=seohee&problem_id=1406&from_mine=1\n",
    "\n"
   ]
  }
 ],
 "metadata": {
  "anaconda-cloud": {},
  "kernelspec": {
   "display_name": "Python [default]",
   "language": "python",
   "name": "python2"
  },
  "language_info": {
   "codemirror_mode": {
    "name": "ipython",
    "version": 2
   },
   "file_extension": ".py",
   "mimetype": "text/x-python",
   "name": "python",
   "nbconvert_exporter": "python",
   "pygments_lexer": "ipython2",
   "version": "2.7.13"
  }
 },
 "nbformat": 4,
 "nbformat_minor": 2
}
