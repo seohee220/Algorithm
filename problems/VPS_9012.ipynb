{
 "cells": [
  {
   "cell_type": "code",
   "execution_count": 6,
   "metadata": {
    "collapsed": true
   },
   "outputs": [],
   "source": [
    "def check_vps(ps):\n",
    "    if len(ps)%2==1 or len(ps)==0:\n",
    "        return False\n",
    "    \n",
    "    stack = []\n",
    "    for p in ps:\n",
    "        if p=='(':\n",
    "            stack.append(p)\n",
    "        elif p==')':\n",
    "            if len(stack)>0:\n",
    "                stack.pop()\n",
    "            else:\n",
    "                return False\n",
    "        else:\n",
    "            print 'Wrong Input'\n",
    "        \n",
    "    if len(stack)>0:\n",
    "        return False\n",
    "    elif len(stack)==0:\n",
    "        return True"
   ]
  },
  {
   "cell_type": "code",
   "execution_count": 12,
   "metadata": {
    "collapsed": false
   },
   "outputs": [
    {
     "name": "stdout",
     "output_type": "stream",
     "text": [
      "6\n",
      "(())())\n",
      "(((()())()\n",
      "(()())((()))\n",
      "((()()(()))(((())))()\n",
      "()()()()(()()())()\n",
      "(()((())()(\n",
      "NO\n",
      "NO\n",
      "YES\n",
      "NO\n",
      "YES\n",
      "NO\n"
     ]
    }
   ],
   "source": [
    "n = input()\n",
    "ps_list = []\n",
    "for i in range(n):\n",
    "    ps_list.append(raw_input())\n",
    "\n",
    "for psl in ps_list:\n",
    "    if check_vps(psl):\n",
    "        print 'YES'\n",
    "    else:\n",
    "        print 'NO'"
   ]
  }
 ],
 "metadata": {
  "anaconda-cloud": {},
  "kernelspec": {
   "display_name": "Python [default]",
   "language": "python",
   "name": "python2"
  },
  "language_info": {
   "codemirror_mode": {
    "name": "ipython",
    "version": 2
   },
   "file_extension": ".py",
   "mimetype": "text/x-python",
   "name": "python",
   "nbconvert_exporter": "python",
   "pygments_lexer": "ipython2",
   "version": "2.7.13"
  }
 },
 "nbformat": 4,
 "nbformat_minor": 2
}
