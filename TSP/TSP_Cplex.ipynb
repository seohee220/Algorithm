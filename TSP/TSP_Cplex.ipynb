{
 "cells": [
  {
   "cell_type": "code",
   "execution_count": 3,
   "metadata": {
    "collapsed": false
   },
   "outputs": [
    {
     "data": {
      "text/plain": [
       "<matplotlib.figure.Figure at 0x10be724d0>"
      ]
     },
     "execution_count": 3,
     "metadata": {},
     "output_type": "execute_result"
    }
   ],
   "source": [
    "import networkx as nx\n",
    "import matplotlib.pyplot as plt\n",
    "from cplex import *\n",
    "\n",
    "plt.figure(figsize=(20,10))"
   ]
  },
  {
   "cell_type": "code",
   "execution_count": 4,
   "metadata": {
    "collapsed": true
   },
   "outputs": [],
   "source": [
    "datas = [\n",
    "('a', 115,61),\n",
    "('b', 120,60),\n",
    "('c', 125,19),\n",
    "('d', 125,64),\n",
    "('e', 130,64),\n",
    "('f', 135,52),\n",
    "('g', 215,21),\n",
    "('h', 250,25),\n",
    "('i', 400,63),\n",
    "('j', 400,57),\n",
    "('k', 400,26),\n",
    "('l', 400,19),\n",
    "('m', 410,61),\n",
    "# ('n', 415,61),\n",
    "# ('o', 425,16),\n",
    "# ('p', 435,18),\n",
    "# ('q', 435,23),\n",
    "# ('r', 635,64),\n",
    "# ('s', 645,19),\n",
    "# ('t', 740,25),\n",
    "# ('u', 750,25)\n",
    "]"
   ]
  },
  {
   "cell_type": "code",
   "execution_count": 5,
   "metadata": {
    "collapsed": false
   },
   "outputs": [],
   "source": [
    "def make_edges(datas):\n",
    "    edges = []\n",
    "    for i, (name, x, y)  in enumerate(datas):\n",
    "        for j in range(len(datas)):\n",
    "            if i!=j:\n",
    "                from_to = (name, datas[j][0])\n",
    "                _x = abs(x - datas[j][1])\n",
    "                _y = abs(y - datas[j][2])\n",
    "                edges.append((from_to, _x + _y))\n",
    "    return edges\n",
    "\n",
    "\n",
    "def make_subsets(datas):\n",
    "    num_of_nodes = len(datas)\n",
    "    N = range(1,num_of_nodes+1)\n",
    "\n",
    "    all_node_subsets = []\n",
    "    for i in range(2**(num_of_nodes-1)+1, 2**(num_of_nodes)-1):\n",
    "        list_bin =  map(int, list((bin(i)))[2:])\n",
    "        node_subset = []\n",
    "        for idx in range(num_of_nodes):\n",
    "            if list_bin[idx]*N[idx]>0:\n",
    "                node_subset.append(list_bin[idx]*N[idx])\n",
    "        all_node_subsets.append(node_subset)\n",
    "    return all_node_subsets"
   ]
  },
  {
   "cell_type": "code",
   "execution_count": 6,
   "metadata": {
    "collapsed": false
   },
   "outputs": [],
   "source": [
    "def formulate_tsp(edges, all_node_subsets):\n",
    "    \n",
    "    cplex = Cplex()\n",
    "\n",
    "    # set sense\n",
    "    cplex.objective.set_sense(cplex.objective.sense.minimize)\n",
    "\n",
    "    #set variables\n",
    "    y = ['y_%d_%d' %(i,j) for i in range(len(datas)) for j in range(len(datas)) if i!=j]\n",
    "\n",
    "    #objective function\n",
    "    c = [e[1] for e in edges]\n",
    "    cplex.variables.add(obj=c, types=['B']*len(y), names=y)\n",
    "\n",
    "    #set constraints\n",
    "    #const1\n",
    "    for i in range(len(datas)):\n",
    "        exp = [SparsePair(ind=['y_%d_%d' %(i,j) for j in range(len(datas)) if i!=j], val=[1]*(len(datas)-1))]\n",
    "        cplex.linear_constraints.add(lin_expr=exp,senses='E',rhs=[1])\n",
    "\n",
    "    #const2\n",
    "    for j in range(len(datas)):\n",
    "        exp = [SparsePair(ind=['y_%d_%d' %(i,j) for i in range(len(datas)) if i!=j], val=[1]*(len(datas)-1))]\n",
    "        cplex.linear_constraints.add(lin_expr=exp,senses='E',rhs=[1])\n",
    "\n",
    "    #const3\n",
    "    for node_subset in all_node_subsets:\n",
    "        exp = [SparsePair(ind=['y_%d_%d' %(i-1,j-1) for i in node_subset for j in node_subset if i!=j], val=[1]*(len(node_subset)*(len(node_subset)-1)))]\n",
    "        cplex.linear_constraints.add(lin_expr=exp, senses='L', rhs=[len(node_subset)-1])\n",
    "    \n",
    "    return cplex, y"
   ]
  },
  {
   "cell_type": "code",
   "execution_count": 7,
   "metadata": {
    "collapsed": true
   },
   "outputs": [],
   "source": [
    "def make_graph(datas,result):\n",
    "    G = nx.DiGraph()\n",
    "\n",
    "    for name, x, y in datas :\n",
    "        G.add_node(name, pos=(x,y))\n",
    "\n",
    "    # G.add_edges_from([('a','b')])\n",
    "    for item in result:\n",
    "        (y, i, j) = item[0].split('_')\n",
    "        G.add_edge(chr(int(i)+97), chr(int(j)+97))\n",
    "\n",
    "\n",
    "    pos=nx.get_node_attributes(G,'pos')\n",
    "    nx.draw_networkx(G, pos)\n",
    "    plt.show()"
   ]
  },
  {
   "cell_type": "code",
   "execution_count": 8,
   "metadata": {
    "collapsed": false
   },
   "outputs": [
    {
     "name": "stdout",
     "output_type": "stream",
     "text": [
      "Tried aggregator 1 time.\n",
      "Reduced MIP has 4120 rows, 156 columns, and 184476 nonzeros.\n",
      "Reduced MIP has 156 binaries, 0 generals, 0 SOSs, and 0 indicators.\n",
      "Presolve time = 0.06 sec. (53.30 ticks)\n",
      "Probing time = 0.01 sec. (11.04 ticks)\n",
      "Tried aggregator 1 time.\n",
      "Reduced MIP has 4120 rows, 156 columns, and 184476 nonzeros.\n",
      "Reduced MIP has 156 binaries, 0 generals, 0 SOSs, and 0 indicators.\n",
      "Presolve time = 0.07 sec. (53.30 ticks)\n",
      "Probing time = 0.04 sec. (11.46 ticks)\n",
      "Clique table members: 38.\n",
      "MIP emphasis: balance optimality and feasibility.\n",
      "MIP search method: dynamic search.\n",
      "Parallel mode: deterministic, using up to 4 threads.\n",
      "Root relaxation solution time = 0.37 sec. (36.65 ticks)\n",
      "\n",
      "        Nodes                                         Cuts/\n",
      "   Node  Left     Objective  IInf  Best Integer    Best Bound    ItCnt     Gap\n",
      "\n",
      "*     0+    0                         1936.0000        0.0000           100.00%\n",
      "*     0     0      integral     0      712.0000      712.0000       59    0.00%\n",
      "Elapsed time = 0.80 sec. (270.92 ticks, tree = 0.00 MB, solutions = 2)\n",
      "\n",
      "Root node processing (before b&c):\n",
      "  Real time             =    0.80 sec. (270.95 ticks)\n",
      "Parallel b&c, 4 threads:\n",
      "  Real time             =    0.00 sec. (0.00 ticks)\n",
      "  Sync time (average)   =    0.00 sec.\n",
      "  Wait time (average)   =    0.00 sec.\n",
      "                          ------------\n",
      "Total (root+branch&cut) =    0.80 sec. (270.95 ticks)\n",
      "712.0\n",
      "[('y_0_3', 1.0), ('y_1_0', 1.0), ('y_2_5', 1.0), ('y_3_4', 1.0), ('y_4_8', 1.0), ('y_5_1', 1.0), ('y_6_2', 1.0), ('y_7_6', 1.0), ('y_8_12', 1.0), ('y_9_10', 1.0), ('y_10_11', 1.0), ('y_11_7', 1.0), ('y_12_9', 1.0)]\n"
     ]
    }
   ],
   "source": [
    "edges = make_edges(datas)\n",
    "all_node_subsets = make_subsets(datas)\n",
    "cpx,y = formulate_tsp(edges, all_node_subsets) \n",
    "cpx.solve()\n",
    "print cpx.solution.get_objective_value()\n",
    "result = [(yi,cpx.solution.get_values(yi)) for yi in y if cpx.solution.get_values(yi)>0]\n",
    "print result\n",
    "\n"
   ]
  },
  {
   "cell_type": "code",
   "execution_count": 9,
   "metadata": {
    "collapsed": false
   },
   "outputs": [
    {
     "data": {
      "image/png": "[encoded data removed]",
      "text/plain": [
       "<matplotlib.figure.Figure at 0x10be724d0>"
      ]
     },
     "metadata": {},
     "output_type": "display_data"
    }
   ],
   "source": [
    "make_graph(datas, result)"
   ]
  },
  {
   "cell_type": "code",
   "execution_count": 11,
   "metadata": {
    "collapsed": false
   },
   "outputs": [
    {
     "name": "stdout",
     "output_type": "stream",
     "text": [
      "a\n",
      "b\n",
      "f\n",
      "c\n",
      "g\n",
      "h\n",
      "l\n",
      "k\n",
      "j\n",
      "m\n",
      "i\n",
      "e\n"
     ]
    }
   ],
   "source": [
    "a\n",
    "b\n",
    "f\n",
    "c\n",
    "g\n",
    "h\n",
    "l\n",
    "k\n",
    "j\n",
    "m\n",
    "i\n",
    "e"
   ]
  },
  {
   "cell_type": "code",
   "execution_count": null,
   "metadata": {
    "collapsed": true
   },
   "outputs": [],
   "source": []
  }
 ],
 "metadata": {
  "anaconda-cloud": {},
  "kernelspec": {
   "display_name": "Python [default]",
   "language": "python",
   "name": "python2"
  },
  "language_info": {
   "codemirror_mode": {
    "name": "ipython",
    "version": 2
   },
   "file_extension": ".py",
   "mimetype": "text/x-python",
   "name": "python",
   "nbconvert_exporter": "python",
   "pygments_lexer": "ipython2",
   "version": "2.7.13"
  }
 },
 "nbformat": 4,
 "nbformat_minor": 2
}
