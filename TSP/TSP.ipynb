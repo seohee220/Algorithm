{
 "cells": [
  {
   "cell_type": "code",
   "execution_count": 1,
   "metadata": {
    "collapsed": true
   },
   "outputs": [],
   "source": [
    "import math\n",
    "import sys"
   ]
  },
  {
   "cell_type": "code",
   "execution_count": 2,
   "metadata": {
    "collapsed": true
   },
   "outputs": [],
   "source": [
    "class TSP_Node :\n",
    "    def __init__ (self, fullName=None, x=None, y=None) :\n",
    "        self.fullName = None\n",
    "        self.x = None\n",
    "        self.y = None\n",
    "\n",
    "    def __init__ (self, sample) : # \n",
    "        self.fullName = sample[0]\n",
    "        self.x = sample[1]\n",
    "        self.y = sample[2]\n",
    "        \n",
    "    def setData (self, fullName, x, y) :\n",
    "        self.fullName = fullName\n",
    "        self.x = x\n",
    "        self.y = y\n",
    "    def getFullName(self) :\n",
    "        return self.fullName\n",
    "    def getX(self) :\n",
    "        return self.x\n",
    "    def getY(self) :\n",
    "        return self.y\n",
    "    def getData (self) :\n",
    "        return {\n",
    "            \"fullName\" : self.fullName,\n",
    "            \"x\" : self.x,\n",
    "            \"y\" : self.y\n",
    "        }\n",
    "    \n",
    "    def getDistanceToNode (self, node) :\n",
    "        return abs(self.getX() - node.getX()) + abs(self.getY() - node.getY())\n",
    "    \n",
    "    def __repr__ (self) :\n",
    "        return self.getFullName + \": \" + str(self.getX()) + \", \" + str(self.getY())\n"
   ]
  },
  {
   "cell_type": "code",
   "execution_count": 3,
   "metadata": {
    "collapsed": true
   },
   "outputs": [],
   "source": [
    "class TSP_Manager :\n",
    "    def __init__ (self) :\n",
    "        self.node_list = []\n",
    "    def addNode(self, node) :\n",
    "        self.node_list.append(node)\n",
    "    def getNodebyIndex(self, index) :\n",
    "        return self.node_list[index]\n",
    "    def len_nodes(self):\n",
    "        return len(self.node_list)"
   ]
  },
  {
   "cell_type": "code",
   "execution_count": 4,
   "metadata": {
    "collapsed": true
   },
   "outputs": [],
   "source": [
    "tsp_manager = TSP_Manager()"
   ]
  },
  {
   "cell_type": "code",
   "execution_count": 5,
   "metadata": {
    "collapsed": true
   },
   "outputs": [],
   "source": [
    "sample_data = [\n",
    "('a', 115,61),\n",
    "('b', 120,60),\n",
    "('c', 125,19),\n",
    "('d', 125,64),\n",
    "('e', 130,64),\n",
    "('f', 135,52),\n",
    "('g', 215,21),\n",
    "('h', 250,25),\n",
    "('i', 400,63),\n",
    "('j', 400,57),\n",
    "('k', 400,26),\n",
    "('l', 400,19),\n",
    "('m', 410,61),\n",
    "# ('n', 415,61),\n",
    "# ('o', 425,16),\n",
    "# ('p', 435,18),\n",
    "# ('q', 435,23),\n",
    "# ('r', 635,64),\n",
    "# ('s', 645,19),\n",
    "# ('t', 740,25),\n",
    "# ('u', 750,25)\n",
    "]"
   ]
  },
  {
   "cell_type": "code",
   "execution_count": 6,
   "metadata": {
    "collapsed": true
   },
   "outputs": [],
   "source": [
    "# init Data Array \n",
    "for data in sample_data :\n",
    "    tsp_manager.addNode(TSP_Node(data))"
   ]
  },
  {
   "cell_type": "code",
   "execution_count": 7,
   "metadata": {
    "collapsed": false
   },
   "outputs": [
    {
     "name": "stdout",
     "output_type": "stream",
     "text": [
      "a\n",
      "b\n",
      "c\n",
      "d\n",
      "e\n",
      "f\n",
      "g\n",
      "h\n",
      "i\n",
      "j\n",
      "k\n",
      "l\n",
      "m\n"
     ]
    }
   ],
   "source": [
    "for data in tsp_manager.node_list:\n",
    "    print (data.fullName)"
   ]
  },
  {
   "cell_type": "code",
   "execution_count": 8,
   "metadata": {
    "collapsed": true
   },
   "outputs": [],
   "source": [
    "class TSP :\n",
    "    def __init__(self, tsp_manager) :\n",
    "        self.tsp_manager = tsp_manager\n",
    "        self.graph = None\n",
    "        self.maxValue = sys.maxsize\n",
    "        self.lenOfNodes = self.tsp_manager.len_nodes()\n",
    "        \n",
    "        self.allChecked = (1 << self.lenOfNodes) - 1;\n",
    "        self.memo = {}\n",
    "        self.minPathDistance = 0\n",
    "        self.path = []\n",
    "        \n",
    "    def makeGraph(self):\n",
    "        lenOfNodes = self.lenOfNodes\n",
    "        self.graph = [[0 for j in range(lenOfNodes+1) ] for i in range(lenOfNodes+1)]\n",
    "        if (self.tsp_manager) :\n",
    "            for i in range(1,lenOfNodes + 1) :\n",
    "                fromNode = self.tsp_manager.getNodebyIndex(i-1)\n",
    "                for j in range(i + 1, lenOfNodes + 1) :\n",
    "                    toNode = self.tsp_manager.getNodebyIndex(j-1)\n",
    "                    distance = fromNode.getDistanceToNode(toNode)\n",
    "                    self.graph[i][j] = distance\n",
    "                    self.graph[j][i] = distance\n",
    "    \n",
    "    def runTsp(self, fromNode, visitFlag) :\n",
    "        if visitFlag == self.allChecked : # all visited\n",
    "            return self.graph[fromNode][1]\n",
    "        if (fromNode, visitFlag) in self.memo.keys(): # already visitFlag\n",
    "            return self.memo[(fromNode, visitFlag)]\n",
    "\n",
    "        tempValue = self.maxValue\n",
    "        for next in range(1, self.lenOfNodes+1) :\n",
    "            if  visitFlag & (1<<(next-1)) :\n",
    "                continue\n",
    "            if self.graph[fromNode][next] == 0 :\n",
    "                continue\n",
    "            tempValue \\\n",
    "            = min(tempValue, self.graph[fromNode][next] + self.runTsp(next, visitFlag | (1<<(next-1))))\n",
    "        \n",
    "        self.memo[(fromNode,visitFlag)] = tempValue\n",
    "        return tempValue\n",
    "    \n",
    "    def findPath(self):\n",
    "        start = 1\n",
    "        visitFlag = 1\n",
    "        lenOfNodes = self.lenOfNodes\n",
    "        distance = self.minPathDistance\n",
    "        memo = self.memo\n",
    "        graph = self.graph\n",
    "        path = self.path\n",
    "        path.append(1)\n",
    "\n",
    "        for i in range(1, lenOfNodes + 1):\n",
    "            for j in range(1, lenOfNodes + 1):\n",
    "                if (visitFlag & (1<< (j-1))):\n",
    "                    print (1)\n",
    "                    continue\n",
    "                \n",
    "                print (start, j, j, visitFlag | (1<<(j-1)) )\n",
    "                cur = distance - graph[start][j]\n",
    "                prev = 0\n",
    "                if ((j, visitFlag | (1<<(j-1))) in memo.keys()) :\n",
    "                    prev = memo[(j, visitFlag | (1<<(j-1)))]\n",
    "                print (\"compare\", cur, prev)\n",
    "                if (cur == prev ) :\n",
    "                    print(\"a\")\n",
    "                    path.append(j)\n",
    "                    distance = prev\n",
    "                    start = j\n",
    "                    visitFlag |= (1<<(j-1))\n",
    "        \n",
    "        print(\"path\")\n",
    "        for p in path:\n",
    "            print(p)\n",
    "                \n",
    "    "
   ]
  },
  {
   "cell_type": "code",
   "execution_count": 9,
   "metadata": {
    "collapsed": true
   },
   "outputs": [],
   "source": [
    "tsp = TSP(tsp_manager)"
   ]
  },
  {
   "cell_type": "code",
   "execution_count": 10,
   "metadata": {
    "collapsed": true
   },
   "outputs": [],
   "source": [
    "tsp.makeGraph()"
   ]
  },
  {
   "cell_type": "code",
   "execution_count": 11,
   "metadata": {
    "collapsed": false
   },
   "outputs": [
    {
     "data": {
      "text/plain": [
       "[[0, 0, 0, 0, 0, 0, 0, 0, 0, 0, 0, 0, 0, 0],\n",
       " [0, 0, 6, 52, 13, 18, 29, 140, 171, 287, 289, 320, 327, 295],\n",
       " [0, 6, 0, 46, 9, 14, 23, 134, 165, 283, 283, 314, 321, 291],\n",
       " [0, 52, 46, 0, 45, 50, 43, 92, 131, 319, 313, 282, 275, 327],\n",
       " [0, 13, 9, 45, 0, 5, 22, 133, 164, 276, 282, 313, 320, 288],\n",
       " [0, 18, 14, 50, 5, 0, 17, 128, 159, 271, 277, 308, 315, 283],\n",
       " [0, 29, 23, 43, 22, 17, 0, 111, 142, 276, 270, 291, 298, 284],\n",
       " [0, 140, 134, 92, 133, 128, 111, 0, 39, 227, 221, 190, 187, 235],\n",
       " [0, 171, 165, 131, 164, 159, 142, 39, 0, 188, 182, 151, 156, 196],\n",
       " [0, 287, 283, 319, 276, 271, 276, 227, 188, 0, 6, 37, 44, 12],\n",
       " [0, 289, 283, 313, 282, 277, 270, 221, 182, 6, 0, 31, 38, 14],\n",
       " [0, 320, 314, 282, 313, 308, 291, 190, 151, 37, 31, 0, 7, 45],\n",
       " [0, 327, 321, 275, 320, 315, 298, 187, 156, 44, 38, 7, 0, 52],\n",
       " [0, 295, 291, 327, 288, 283, 284, 235, 196, 12, 14, 45, 52, 0]]"
      ]
     },
     "execution_count": 11,
     "metadata": {},
     "output_type": "execute_result"
    }
   ],
   "source": [
    "tsp.graph"
   ]
  },
  {
   "cell_type": "code",
   "execution_count": 12,
   "metadata": {
    "collapsed": true,
    "scrolled": false
   },
   "outputs": [],
   "source": [
    "tsp.minPathDistance = tsp.runTsp(1, 1) \n",
    "\n",
    "\n"
   ]
  },
  {
   "cell_type": "code",
   "execution_count": 13,
   "metadata": {
    "collapsed": false
   },
   "outputs": [
    {
     "data": {
      "text/plain": [
       "712"
      ]
     },
     "execution_count": 13,
     "metadata": {},
     "output_type": "execute_result"
    }
   ],
   "source": [
    "tsp.minPathDistance\n"
   ]
  },
  {
   "cell_type": "code",
   "execution_count": 764,
   "metadata": {
    "collapsed": false
   },
   "outputs": [
    {
     "data": {
      "text/plain": [
       "{(1, 1): 6,\n",
       " (2, 3): 3,\n",
       " (2, 7): 3,\n",
       " (2, 11): 3,\n",
       " (3, 5): 4,\n",
       " (3, 7): 2,\n",
       " (3, 13): 4,\n",
       " (4, 9): 5,\n",
       " (4, 11): 3,\n",
       " (4, 13): 5}"
      ]
     },
     "execution_count": 764,
     "metadata": {},
     "output_type": "execute_result"
    }
   ],
   "source": [
    "tsp.memo"
   ]
  },
  {
   "cell_type": "code",
   "execution_count": 14,
   "metadata": {
    "collapsed": false
   },
   "outputs": [
    {
     "name": "stdout",
     "output_type": "stream",
     "text": [
      "1\n",
      "(1, 2, 2, 3)\n",
      "('compare', 706, 706)\n",
      "a\n",
      "(2, 3, 3, 7)\n",
      "('compare', 660, 662)\n",
      "(2, 4, 4, 11)\n",
      "('compare', 697, 699)\n",
      "(2, 5, 5, 19)\n",
      "('compare', 692, 700)\n",
      "(2, 6, 6, 35)\n",
      "('compare', 683, 683)\n",
      "a\n",
      "(6, 7, 7, 99)\n",
      "('compare', 572, 632)\n",
      "(6, 8, 8, 163)\n",
      "('compare', 541, 599)\n",
      "(6, 9, 9, 291)\n",
      "('compare', 407, 419)\n",
      "(6, 10, 10, 547)\n",
      "('compare', 413, 425)\n",
      "(6, 11, 11, 1059)\n",
      "('compare', 392, 456)\n",
      "(6, 12, 12, 2083)\n",
      "('compare', 385, 451)\n",
      "(6, 13, 13, 4131)\n",
      "('compare', 399, 411)\n",
      "1\n",
      "1\n",
      "(6, 3, 3, 39)\n",
      "('compare', 640, 640)\n",
      "a\n",
      "(3, 4, 4, 47)\n",
      "('compare', 595, 675)\n",
      "(3, 5, 5, 55)\n",
      "('compare', 590, 676)\n",
      "1\n",
      "(3, 7, 7, 103)\n",
      "('compare', 548, 548)\n",
      "a\n",
      "(7, 8, 8, 231)\n",
      "('compare', 509, 509)\n",
      "a\n",
      "(8, 9, 9, 487)\n",
      "('compare', 321, 397)\n",
      "(8, 10, 10, 743)\n",
      "('compare', 327, 391)\n",
      "(8, 11, 11, 1255)\n",
      "('compare', 358, 360)\n",
      "(8, 12, 12, 2279)\n",
      "('compare', 353, 353)\n",
      "a\n",
      "(12, 13, 13, 6375)\n",
      "('compare', 301, 371)\n",
      "1\n",
      "1\n",
      "1\n",
      "(12, 4, 4, 2287)\n",
      "('compare', 33, 653)\n",
      "(12, 5, 5, 2295)\n",
      "('compare', 38, 654)\n",
      "1\n",
      "1\n",
      "1\n",
      "(12, 9, 9, 2535)\n",
      "('compare', 309, 383)\n",
      "(12, 10, 10, 2791)\n",
      "('compare', 315, 377)\n",
      "(12, 11, 11, 3303)\n",
      "('compare', 346, 346)\n",
      "a\n",
      "1\n",
      "(11, 13, 13, 7399)\n",
      "('compare', 301, 309)\n",
      "1\n",
      "1\n",
      "1\n",
      "(11, 4, 4, 3311)\n",
      "('compare', 33, 591)\n",
      "(11, 5, 5, 3319)\n",
      "('compare', 38, 592)\n",
      "1\n",
      "1\n",
      "1\n",
      "(11, 9, 9, 3559)\n",
      "('compare', 309, 321)\n",
      "(11, 10, 10, 3815)\n",
      "('compare', 315, 315)\n",
      "a\n",
      "1\n",
      "1\n",
      "(10, 13, 13, 7911)\n",
      "('compare', 301, 301)\n",
      "a\n",
      "1\n",
      "1\n",
      "1\n",
      "(13, 4, 4, 7919)\n",
      "('compare', 13, 563)\n",
      "(13, 5, 5, 7927)\n",
      "('compare', 18, 560)\n",
      "1\n",
      "1\n",
      "1\n",
      "(13, 9, 9, 8167)\n",
      "('compare', 289, 289)\n",
      "a\n",
      "1\n",
      "1\n",
      "1\n",
      "1\n",
      "1\n",
      "1\n",
      "1\n",
      "(9, 4, 4, 8175)\n",
      "('compare', 13, 23)\n",
      "(9, 5, 5, 8183)\n",
      "('compare', 18, 18)\n",
      "a\n",
      "1\n",
      "1\n",
      "1\n",
      "1\n",
      "1\n",
      "1\n",
      "1\n",
      "1\n",
      "1\n",
      "1\n",
      "1\n",
      "(5, 4, 4, 8191)\n",
      "('compare', 13, 0)\n",
      "1\n",
      "1\n",
      "1\n",
      "1\n",
      "1\n",
      "1\n",
      "1\n",
      "1\n",
      "1\n",
      "1\n",
      "1\n",
      "1\n",
      "(5, 4, 4, 8191)\n",
      "('compare', 13, 0)\n",
      "1\n",
      "1\n",
      "1\n",
      "1\n",
      "1\n",
      "1\n",
      "1\n",
      "1\n",
      "1\n",
      "1\n",
      "1\n",
      "1\n",
      "(5, 4, 4, 8191)\n",
      "('compare', 13, 0)\n",
      "1\n",
      "1\n",
      "1\n",
      "1\n",
      "1\n",
      "1\n",
      "1\n",
      "1\n",
      "1\n",
      "1\n",
      "1\n",
      "1\n",
      "(5, 4, 4, 8191)\n",
      "('compare', 13, 0)\n",
      "1\n",
      "1\n",
      "1\n",
      "1\n",
      "1\n",
      "1\n",
      "1\n",
      "1\n",
      "1\n",
      "1\n",
      "1\n",
      "1\n",
      "(5, 4, 4, 8191)\n",
      "('compare', 13, 0)\n",
      "1\n",
      "1\n",
      "1\n",
      "1\n",
      "1\n",
      "1\n",
      "1\n",
      "1\n",
      "1\n",
      "1\n",
      "1\n",
      "1\n",
      "(5, 4, 4, 8191)\n",
      "('compare', 13, 0)\n",
      "1\n",
      "1\n",
      "1\n",
      "1\n",
      "1\n",
      "1\n",
      "1\n",
      "1\n",
      "1\n",
      "1\n",
      "1\n",
      "1\n",
      "(5, 4, 4, 8191)\n",
      "('compare', 13, 0)\n",
      "1\n",
      "1\n",
      "1\n",
      "1\n",
      "1\n",
      "1\n",
      "1\n",
      "1\n",
      "1\n",
      "path\n",
      "1\n",
      "2\n",
      "6\n",
      "3\n",
      "7\n",
      "8\n",
      "12\n",
      "11\n",
      "10\n",
      "13\n",
      "9\n",
      "5\n"
     ]
    }
   ],
   "source": [
    "tsp.findPath()"
   ]
  },
  {
   "cell_type": "code",
   "execution_count": 15,
   "metadata": {
    "collapsed": false
   },
   "outputs": [
    {
     "data": {
      "text/plain": [
       "[1, 2, 6, 3, 7, 8, 12, 11, 10, 13, 9, 5]"
      ]
     },
     "execution_count": 15,
     "metadata": {},
     "output_type": "execute_result"
    }
   ],
   "source": [
    "tsp.path"
   ]
  },
  {
   "cell_type": "code",
   "execution_count": null,
   "metadata": {
    "collapsed": true
   },
   "outputs": [],
   "source": [
    "def make_graph(datas,result):\n",
    "    G = nx.DiGraph()\n",
    "\n",
    "    for name, x, y in datas :\n",
    "        G.add_node(name, pos=(x,y))\n",
    "\n",
    "    # G.add_edges_from([('a','b')])\n",
    "    for item in result:\n",
    "        (y, i, j) = item[0].split('_')\n",
    "        G.add_edge(chr(int(i)+97), chr(int(j)+97))\n",
    "\n",
    "\n",
    "    pos=nx.get_node_attributes(G,'pos')\n",
    "    nx.draw_networkx(G, pos)\n",
    "    plt.show()"
   ]
  },
  {
   "cell_type": "code",
   "execution_count": null,
   "metadata": {
    "collapsed": true
   },
   "outputs": [],
   "source": []
  }
 ],
 "metadata": {
  "anaconda-cloud": {},
  "kernelspec": {
   "display_name": "Python [default]",
   "language": "python",
   "name": "python2"
  },
  "language_info": {
   "codemirror_mode": {
    "name": "ipython",
    "version": 2
   },
   "file_extension": ".py",
   "mimetype": "text/x-python",
   "name": "python",
   "nbconvert_exporter": "python",
   "pygments_lexer": "ipython2",
   "version": "2.7.13"
  }
 },
 "nbformat": 4,
 "nbformat_minor": 2
}
