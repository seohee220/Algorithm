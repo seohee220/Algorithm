{
 "cells": [
  {
   "cell_type": "code",
   "execution_count": 38,
   "metadata": {
    "collapsed": false
   },
   "outputs": [
    {
     "data": {
      "text/plain": [
       "dict"
      ]
     },
     "execution_count": 38,
     "metadata": {},
     "output_type": "execute_result"
    }
   ],
   "source": [
    "dict={66:{0:3,1:2}}\n",
    "type(dict[66])"
   ]
  },
  {
   "cell_type": "code",
   "execution_count": null,
   "metadata": {
    "collapsed": true
   },
   "outputs": [],
   "source": [
    "def readgraph(graph):\n",
    "    f = open(graph,'r')\n",
    "    line = f.readlines()\n",
    "    \n",
    "    for"
   ]
  },
  {
   "cell_type": "code",
   "execution_count": 42,
   "metadata": {
    "collapsed": false
   },
   "outputs": [
    {
     "name": "stdout",
     "output_type": "stream",
     "text": [
      "0 1 1\n",
      "0 3 4\n",
      "3 1 2\n",
      "1 2 5\n",
      "3 2 1\n"
     ]
    }
   ],
   "source": [
    "f = open('graph.txt','r')\n",
    "num_of_test = int(f.readline().rstrip())\n",
    "for n in range(num_of_test):\n",
    "    num_of_node, num_of_edge =  map(int,f.readline().rstrip().split())\n",
    "    graph = {} # make dictionary\n",
    "    for i in range(num_of_node+1):\n",
    "        graph[i]={}\n",
    "    for i in range(num_of_edge):\n",
    "        node_s, node_t, cost = map(int, f.readline().rstrip().split())\n",
    "        graph[node_s][node_t] = cost\n"
   ]
  },
  {
   "cell_type": "code",
   "execution_count": 43,
   "metadata": {
    "collapsed": false
   },
   "outputs": [
    {
     "data": {
      "text/plain": [
       "{0: {1: 1, 3: 4}, 1: {2: 5}, 2: {}, 3: {1: 2, 2: 1}}"
      ]
     },
     "execution_count": 43,
     "metadata": {},
     "output_type": "execute_result"
    }
   ],
   "source": [
    "graph"
   ]
  },
  {
   "cell_type": "code",
   "execution_count": 77,
   "metadata": {
    "collapsed": false
   },
   "outputs": [
    {
     "name": "stdout",
     "output_type": "stream",
     "text": [
      "2\n"
     ]
    }
   ],
   "source": [
    "for g in graph[1]:\n",
    "    print g"
   ]
  },
  {
   "cell_type": "markdown",
   "metadata": {},
   "source": [
    "# Dijkstra Algorithm"
   ]
  },
  {
   "cell_type": "markdown",
   "metadata": {},
   "source": [
    "### Priority Queue"
   ]
  },
  {
   "cell_type": "code",
   "execution_count": 70,
   "metadata": {
    "collapsed": false
   },
   "outputs": [],
   "source": [
    "class Priority_Queue:\n",
    "    def __init__(self):\n",
    "        self.Q=[] #Q라는 list안에 [key,val]로 들어감\n",
    "        pass\n",
    "    \n",
    "    def parent(self,idx):\n",
    "        par_idx = (idx-1)/2\n",
    "        return self.Q[par_idx][0], par_idx\n",
    "    \n",
    "    def left_child(self,idx):\n",
    "        return self.Q[2*idx+1][0], 2*idx+1 #key,idx\n",
    "    \n",
    "    def right_child(self,idx):\n",
    "        return self.Q[2*idx+2][0], 2*idx+2\n",
    "    \n",
    "    def min_left_right_child(self,idx):\n",
    "        if len(self.Q)-1<2*idx+2: #오른쪽 child 없는경우\n",
    "            return self.left_child(idx)\n",
    "        key_l,idx_l = self.left_child(idx)\n",
    "        key_r,idx_r = self.right_child(idx)\n",
    "        if key_l <= key_r:\n",
    "            return key_l,idx_l\n",
    "        else:\n",
    "            return key_r,idx_r\n",
    "    \n",
    "    def insert(self, key, val):\n",
    "        self.Q+=[[key,val]]\n",
    "        n = len(self.Q)\n",
    "        i=n-1\n",
    "        while(True):\n",
    "            if i==0:\n",
    "                break\n",
    "            par_key,par_idx = self.parent(i)\n",
    "            if self.Q[i][0] < par_key:\n",
    "                self.Q[i],self.Q[par_idx] = self.Q[par_idx],self.Q[i]\n",
    "                i = par_idx\n",
    "            else:\n",
    "                break\n",
    "    \n",
    "    def deleteMin(self):\n",
    "        minimum = self.Q[0]\n",
    "        if len(self.Q)==1:\n",
    "            return self.Q.pop()[1]\n",
    "        else:\n",
    "            self.Q[0] = self.Q.pop()\n",
    "        i=0\n",
    "        while(True):\n",
    "            #자식이 없으면 break\n",
    "            if 2*i+1>len(self.Q)-1: \n",
    "                break\n",
    "            \n",
    "            #자식들과 비교하면서 내려가기\n",
    "            min_child,child_idx = self.min_left_right_child(i)\n",
    "            if self.Q[i] > min_child:\n",
    "                self.Q[i],self.Q[child_idx] = self.Q[child_idx],self.Q[i]\n",
    "                i = min_child\n",
    "            else:\n",
    "                break\n",
    "        return minimum[1]\n",
    "    \n",
    "    def decreaseKey(self,val, new_key):#idx,new_val):#val new_key\n",
    "        #Q에서 node(val)를 가지고 있는 거 찾기\n",
    "        for i in range(len(self.Q)):\n",
    "            if self.Q[i][1] == val:\n",
    "                ind = i\n",
    "        \n",
    "        #원래 key가 newkey보다 크면\n",
    "        if self.Q[ind][0]>new_key: \n",
    "            self.Q[ind][0] = new_key\n",
    "            while(True):\n",
    "                if ind==0:\n",
    "                    break\n",
    "                par_key,par_idx = self.parent(ind)\n",
    "                if self.Q[ind][0] < par_key:\n",
    "                    self.Q[ind],self.Q[par_idx] = self.Q[par_idx],self.Q[ind]\n",
    "                    ind = par_idx\n",
    "                else:\n",
    "                    break\n",
    "\n",
    "    def is_empty(self):\n",
    "        if self.inquiry_pq()==[]:\n",
    "            return True\n",
    "        else:\n",
    "            return False\n",
    "    \n",
    "    def check_exist_node(self, val):\n",
    "        for i in range(len(self.Q)):\n",
    "            if self.Q[i][1] == val:\n",
    "                return True\n",
    "        return False\n",
    "    \n",
    "    def inquiry_pq(self):\n",
    "        return self.Q"
   ]
  },
  {
   "cell_type": "code",
   "execution_count": 71,
   "metadata": {
    "collapsed": false
   },
   "outputs": [
    {
     "data": {
      "text/plain": [
       "True"
      ]
     },
     "execution_count": 71,
     "metadata": {},
     "output_type": "execute_result"
    }
   ],
   "source": [
    "pq2 = Priority_Queue()\n",
    "pq2.inquiry_pq()\n",
    "pq2.is_empty()"
   ]
  },
  {
   "cell_type": "code",
   "execution_count": 73,
   "metadata": {
    "collapsed": false
   },
   "outputs": [
    {
     "name": "stdout",
     "output_type": "stream",
     "text": [
      "[[3, 0]]\n",
      "False\n",
      "[[3, 0], [5, 1]]\n",
      "False\n",
      "[[1, 2], [5, 1], [3, 0]]\n",
      "min  2\n",
      "[[5, 1], [3, 0]]\n",
      "[[1, 0], [5, 1]]\n",
      "False\n",
      "dd\n",
      "0\n",
      "[[5, 1]]\n",
      "False\n",
      "1\n",
      "[]\n",
      "True\n"
     ]
    }
   ],
   "source": [
    "pq = Priority_Queue()\n",
    "pq.insert(3,0)\n",
    "print pq.inquiry_pq()\n",
    "print pq.is_empty()\n",
    "pq.insert(5,1)\n",
    "print pq.inquiry_pq()\n",
    "print pq.is_empty()\n",
    "pq.insert(1,2)\n",
    "print pq.inquiry_pq()\n",
    "print \"min \",pq.deleteMin()\n",
    "print pq.inquiry_pq()\n",
    "pq.decreaseKey(0,1)\n",
    "print pq.inquiry_pq()\n",
    "print pq.is_empty()\n",
    "\n",
    "print \"dd\"\n",
    "print pq.deleteMin()\n",
    "print pq.inquiry_pq()\n",
    "print pq.is_empty()\n",
    "\n",
    "print pq.deleteMin()\n",
    "print pq.inquiry_pq()\n",
    "print pq.is_empty()"
   ]
  },
  {
   "cell_type": "code",
   "execution_count": null,
   "metadata": {
    "collapsed": true
   },
   "outputs": [],
   "source": []
  },
  {
   "cell_type": "code",
   "execution_count": null,
   "metadata": {
    "collapsed": true
   },
   "outputs": [],
   "source": []
  },
  {
   "cell_type": "code",
   "execution_count": null,
   "metadata": {
    "collapsed": true
   },
   "outputs": [],
   "source": []
  },
  {
   "cell_type": "code",
   "execution_count": null,
   "metadata": {
    "collapsed": true
   },
   "outputs": [],
   "source": []
  },
  {
   "cell_type": "code",
   "execution_count": 10,
   "metadata": {
    "collapsed": false
   },
   "outputs": [],
   "source": [
    "class Dijkstra:\n",
    "    def __init__(self, G, s):\n",
    "        inf = float(\"inf\")\n",
    "        self.n = len(G)\n",
    "        self.s = s\n",
    "        self.G = G\n",
    "        self.dist={}; self.parent={}\n",
    "        for v in G:\n",
    "            self.dist[v] = inf\n",
    "            self.parent[v] = None\n",
    "        self.dist[s] = 0\n",
    "        self.parent[s] = s\n",
    "        self.Q = Priority_Queue()\n",
    "        self.Q.insert(key=self.dist[s],val=s)\n",
    "    \n",
    "    def dst(self):\n",
    "        while self.Q.is_empty():\n",
    "            u = self.Q.deleteMin()\n",
    "            for v in self.Q[u]:\n",
    "                if self.dist[u]+self.G[u][v] < self.dist[v]:\n",
    "                    parent[v] = u\n",
    "                    if \n",
    "        self.Q.insert(key=self.dist[],val=)\n",
    "\n",
    "        pass\n",
    "    \n",
    "\n",
    "def bf(v,e,n):\n",
    "    for i in range(n-1):\n",
    "        pass"
   ]
  },
  {
   "cell_type": "markdown",
   "metadata": {},
   "source": [
    "## Bellman-Ford Algorithm"
   ]
  },
  {
   "cell_type": "code",
   "execution_count": 62,
   "metadata": {
    "collapsed": false
   },
   "outputs": [],
   "source": [
    "class BellmanFord:\n",
    "    def __init__(self, G):\n",
    "        inf = float(\"inf\")\n",
    "        self.n = len(G)\n",
    "        self.G = G\n",
    "        self.dist={}; self.parent={}\n",
    "        for v in G:\n",
    "            self.dist[v] = inf\n",
    "            self.parent[v] = None\n",
    "    \n",
    "    def relax(self,u,v):\n",
    "        if self.dist[u]+self.G[u][v] < self.dist[v]:\n",
    "            self.dist[v] = self.dist[u]+self.G[u][v]\n",
    "            self.parent[v] = u\n",
    "    \n",
    "    def infect(self,v):\n",
    "        if self.dist[v] > -float(\"inf\"):\n",
    "            self.dist[v] = -float(\"inf\")\n",
    "            for w in self.G[v]:\n",
    "                self.infect(w)\n",
    "        \n",
    "    def bf(self,s): # s : source node\n",
    "        self.dist[s] = 0\n",
    "        self.parent[s] = s\n",
    "        for i in range(self.n):\n",
    "            for u in self.G:\n",
    "                for v in self.G[u]:\n",
    "                    self.relax(u,v)\n",
    "            \n",
    "        # check_negative_cycle\n",
    "        for u in self.G:\n",
    "            for v in self.G[u]:\n",
    "                if self.dist[u]+self.G[u][v] < self.dist[v]:\n",
    "                    self.infect(v)\n",
    "        return self.dist, self.parent\n",
    "            "
   ]
  },
  {
   "cell_type": "code",
   "execution_count": 64,
   "metadata": {
    "collapsed": true
   },
   "outputs": [],
   "source": [
    "graph = {\n",
    "        'a': {'b': -1, 'c':  4},\n",
    "        'b': {'c':  3, 'd':  2, 'e':  2},\n",
    "        'c': {},\n",
    "        'd': {'b':  1, 'c':  5},\n",
    "        'e': {'d': 1} #-4 : negative cycle\n",
    "        }"
   ]
  },
  {
   "cell_type": "code",
   "execution_count": 65,
   "metadata": {
    "collapsed": false
   },
   "outputs": [
    {
     "data": {
      "text/plain": [
       "({'a': 0, 'b': -1, 'c': 2, 'd': 1, 'e': 1},\n",
       " {'a': 'a', 'b': 'a', 'c': 'b', 'd': 'b', 'e': 'b'})"
      ]
     },
     "execution_count": 65,
     "metadata": {},
     "output_type": "execute_result"
    }
   ],
   "source": [
    "a = BellmanFord(graph)\n",
    "a.bf('a')"
   ]
  }
 ],
 "metadata": {
  "kernelspec": {
   "display_name": "Python 2",
   "language": "python",
   "name": "python2"
  },
  "language_info": {
   "codemirror_mode": {
    "name": "ipython",
    "version": 2
   },
   "file_extension": ".py",
   "mimetype": "text/x-python",
   "name": "python",
   "nbconvert_exporter": "python",
   "pygments_lexer": "ipython2",
   "version": "2.7.11"
  }
 },
 "nbformat": 4,
 "nbformat_minor": 0
}
