{
 "cells": [
  {
   "cell_type": "code",
   "execution_count": 115,
   "metadata": {
    "collapsed": true
   },
   "outputs": [],
   "source": [
    "class Tree:\n",
    "    class Node:\n",
    "        def __init__(self, val):\n",
    "            self.left = None\n",
    "            self.right = None\n",
    "            self.value = val\n",
    "            \n",
    "    def __init__(self, node):\n",
    "        self.root = self.Node(node)\n",
    "    \n",
    "    def root(self):\n",
    "        return self.root\n",
    "    \n",
    "    def is_root(self,node):\n",
    "        if node==self.root:\n",
    "            return True\n",
    "        else:\n",
    "            return False\n",
    "    \n",
    "#     def parent(self,node):\n",
    "#         pass\n",
    "    \n",
    "    def isLeft(self, node):\n",
    "        if node.left:\n",
    "            return True\n",
    "        else:\n",
    "            return False\n",
    "    \n",
    "    def isRight(self, node):\n",
    "        if node.right:\n",
    "            return True\n",
    "        else: \n",
    "            return False\n",
    "        \n",
    "    def left(self,node):\n",
    "        if self.isLeft(node):\n",
    "            return node.left\n",
    "        else:\n",
    "            print \"There is no left child.\"\n",
    "            return None\n",
    "    \n",
    "    def right(self,node):\n",
    "        if self.isRight(node):\n",
    "            return node.right\n",
    "        else:\n",
    "            print \"There is no right child.\"\n",
    "            return None\n",
    "        \n",
    "    def attachLeft(self,parent_node,child_node):\n",
    "        if self.isLeft(parent_node):\n",
    "            print \"The parent node already has a left child node.\"\n",
    "        else:\n",
    "            parent_node.left = child_node\n",
    "            print \"Done. The parent node got a left child node.\"\n",
    "    \n",
    "    def attachRight(self, parent_node, child_node):\n",
    "        if self.isRight(parent_node):\n",
    "            print \"The parent node already has a right child node.\" \n",
    "        else:\n",
    "            parent_node.right = child_node\n",
    "            print \"Done. The parent node got a right child node.\"\n",
    "            \n",
    "    def attachLR(self, parent_node, left_child_node, right_child_node):\n",
    "        if self.isLeft(parent_node) or self.isRight(parent_node):\n",
    "            print \"The parent node already has a right child node or a left child node.\"\n",
    "        else:\n",
    "            parent_node.left = left_child_node\n",
    "            parent_node.right = right_child_node\n",
    "            print \"Done. The parent node got left and right child nodes.\""
   ]
  },
  {
   "cell_type": "code",
   "execution_count": 52,
   "metadata": {
    "collapsed": false
   },
   "outputs": [],
   "source": [
    "nodes = [t.Node(i) for i in range(10)]"
   ]
  },
  {
   "cell_type": "code",
   "execution_count": 53,
   "metadata": {
    "collapsed": false
   },
   "outputs": [],
   "source": [
    "t = Tree(nodes[0])"
   ]
  },
  {
   "cell_type": "code",
   "execution_count": 54,
   "metadata": {
    "collapsed": false
   },
   "outputs": [
    {
     "data": {
      "text/plain": [
       "0"
      ]
     },
     "execution_count": 54,
     "metadata": {},
     "output_type": "execute_result"
    }
   ],
   "source": [
    "t.root.value"
   ]
  },
  {
   "cell_type": "code",
   "execution_count": 55,
   "metadata": {
    "collapsed": false
   },
   "outputs": [
    {
     "data": {
      "text/plain": [
       "True"
      ]
     },
     "execution_count": 55,
     "metadata": {},
     "output_type": "execute_result"
    }
   ],
   "source": [
    "t.is_root(nodes[0])"
   ]
  },
  {
   "cell_type": "code",
   "execution_count": 56,
   "metadata": {
    "collapsed": false
   },
   "outputs": [
    {
     "data": {
      "text/plain": [
       "False"
      ]
     },
     "execution_count": 56,
     "metadata": {},
     "output_type": "execute_result"
    }
   ],
   "source": [
    "t.is_root(nodes[1])"
   ]
  },
  {
   "cell_type": "code",
   "execution_count": 57,
   "metadata": {
    "collapsed": false
   },
   "outputs": [
    {
     "name": "stdout",
     "output_type": "stream",
     "text": [
      "False\n",
      "False\n"
     ]
    }
   ],
   "source": [
    "print t.isLeft(nodes[0])\n",
    "print t.isLeft(t.root)"
   ]
  },
  {
   "cell_type": "code",
   "execution_count": 58,
   "metadata": {
    "collapsed": false
   },
   "outputs": [
    {
     "name": "stdout",
     "output_type": "stream",
     "text": [
      "There is no left child.\n"
     ]
    }
   ],
   "source": [
    "t.left(nodes[0])"
   ]
  },
  {
   "cell_type": "code",
   "execution_count": 59,
   "metadata": {
    "collapsed": false
   },
   "outputs": [
    {
     "name": "stdout",
     "output_type": "stream",
     "text": [
      "Done. The parent node got a left child node.\n"
     ]
    }
   ],
   "source": [
    "t.attachLeft(nodes[0],nodes[1])"
   ]
  },
  {
   "cell_type": "code",
   "execution_count": 60,
   "metadata": {
    "collapsed": false
   },
   "outputs": [
    {
     "name": "stdout",
     "output_type": "stream",
     "text": [
      "True\n",
      "True\n"
     ]
    }
   ],
   "source": [
    "print t.isLeft(nodes[0])\n",
    "print t.isLeft(t.root)"
   ]
  },
  {
   "cell_type": "code",
   "execution_count": 62,
   "metadata": {
    "collapsed": false
   },
   "outputs": [
    {
     "name": "stdout",
     "output_type": "stream",
     "text": [
      "The left node's value is  1\n"
     ]
    },
    {
     "data": {
      "text/plain": [
       "1"
      ]
     },
     "execution_count": 62,
     "metadata": {},
     "output_type": "execute_result"
    }
   ],
   "source": [
    "t.left(nodes[0])"
   ]
  },
  {
   "cell_type": "code",
   "execution_count": 64,
   "metadata": {
    "collapsed": false
   },
   "outputs": [
    {
     "name": "stdout",
     "output_type": "stream",
     "text": [
      "The parent node already has a right child node.\n"
     ]
    }
   ],
   "source": [
    "t.attachRight(nodes[0],nodes[2])"
   ]
  },
  {
   "cell_type": "markdown",
   "metadata": {},
   "source": [
    "### new test"
   ]
  },
  {
   "cell_type": "code",
   "execution_count": 116,
   "metadata": {
    "collapsed": false
   },
   "outputs": [],
   "source": [
    "tr = Tree(0)"
   ]
  },
  {
   "cell_type": "code",
   "execution_count": 117,
   "metadata": {
    "collapsed": false
   },
   "outputs": [],
   "source": [
    "node_list = [tr.Node(i) for i in range(7)]"
   ]
  },
  {
   "cell_type": "code",
   "execution_count": 118,
   "metadata": {
    "collapsed": false
   },
   "outputs": [
    {
     "name": "stdout",
     "output_type": "stream",
     "text": [
      "Done. The parent node got left and right child nodes.\n",
      "Done. The parent node got left and right child nodes.\n",
      "Done. The parent node got left and right child nodes.\n"
     ]
    }
   ],
   "source": [
    "tr.attachLR(tr.root, node_list[1], node_list[2])\n",
    "tr.attachLR(node_list[1], node_list[3], node_list[4])\n",
    "tr.attachLR(node_list[2], node_list[5], node_list[6])"
   ]
  },
  {
   "cell_type": "markdown",
   "metadata": {},
   "source": [
    "    0\n",
    "  1   2\n",
    "3  4 5 6"
   ]
  },
  {
   "cell_type": "code",
   "execution_count": 106,
   "metadata": {
    "collapsed": false
   },
   "outputs": [],
   "source": [
    "# inOrder : left - root - right\n",
    "def inOrder(tree, node):\n",
    "    if tree.isLeft(node):\n",
    "        inOrder(tree, node.left)\n",
    "    print node.value\n",
    "    if tree.isRight(node):\n",
    "        inOrder(tree, node.right)"
   ]
  },
  {
   "cell_type": "code",
   "execution_count": 101,
   "metadata": {
    "collapsed": true
   },
   "outputs": [],
   "source": [
    "# pre order : root - left - right\n",
    "def preOrder(tree, node):\n",
    "    print node.value\n",
    "    if tree.isLeft(node):\n",
    "        preOrder(tree, node.left)\n",
    "    if tree.isRight(node):\n",
    "        preOrder(tree, node.right)"
   ]
  },
  {
   "cell_type": "code",
   "execution_count": 103,
   "metadata": {
    "collapsed": true
   },
   "outputs": [],
   "source": [
    "# post order : left - right - root\n",
    "def postOrder(tree, node):\n",
    "    if tree.isLeft(node):\n",
    "        postOrder(tree, node.left)\n",
    "    if tree.isRight(node):\n",
    "        postOrder(tree, node.right)\n",
    "    print node.value"
   ]
  },
  {
   "cell_type": "code",
   "execution_count": 107,
   "metadata": {
    "collapsed": false
   },
   "outputs": [
    {
     "name": "stdout",
     "output_type": "stream",
     "text": [
      "3\n",
      "1\n",
      "4\n",
      "0\n",
      "5\n",
      "2\n",
      "6\n"
     ]
    }
   ],
   "source": [
    "inOrder(tr, tr.root)"
   ]
  },
  {
   "cell_type": "code",
   "execution_count": 102,
   "metadata": {
    "collapsed": false
   },
   "outputs": [
    {
     "name": "stdout",
     "output_type": "stream",
     "text": [
      "0\n",
      "1\n",
      "3\n",
      "4\n",
      "2\n",
      "5\n",
      "6\n"
     ]
    }
   ],
   "source": [
    "preOrder(tr, tr.root)"
   ]
  },
  {
   "cell_type": "code",
   "execution_count": 105,
   "metadata": {
    "collapsed": false
   },
   "outputs": [
    {
     "name": "stdout",
     "output_type": "stream",
     "text": [
      "3\n",
      "4\n",
      "1\n",
      "5\n",
      "6\n",
      "2\n",
      "0\n"
     ]
    }
   ],
   "source": [
    "postOrder(tr, tr.root)"
   ]
  },
  {
   "cell_type": "code",
   "execution_count": 152,
   "metadata": {
    "collapsed": false
   },
   "outputs": [],
   "source": [
    "def inOrder2(tree): # using Stack\n",
    "    s = [tr.root]\n",
    "    order = []\n",
    "    node = tr.root\n",
    "    while s:\n",
    "        if tree.isLeft(node) and (node not in order):\n",
    "            s.append(tree.left(node))\n",
    "            node = tree.left(node)\n",
    "        else:\n",
    "            out = s.pop()\n",
    "            order.append(out)\n",
    "            if tree.isRight(out):\n",
    "                node = tree.right(out)\n",
    "                s.append(node)\n",
    "    return order"
   ]
  },
  {
   "cell_type": "code",
   "execution_count": 191,
   "metadata": {
    "collapsed": false
   },
   "outputs": [],
   "source": [
    "# root - left - right\n",
    "def preOrder2(tree):\n",
    "    s = [tr.root]\n",
    "    order = []\n",
    "    node = tr.root\n",
    "    while s:\n",
    "        if tree.isLeft(node) and (node not in order):\n",
    "            order.append(node)\n",
    "            node = tree.left(node)\n",
    "            s.append(node)\n",
    "        else:\n",
    "            out = s.pop()\n",
    "            order.append(out)\n",
    "            if tree.isRight(out):\n",
    "                \n",
    "                node = tree.right(out)\n",
    "                print node.value\n",
    "                s.append(node)\n",
    "    return [o.value for o in order]"
   ]
  },
  {
   "cell_type": "code",
   "execution_count": 153,
   "metadata": {
    "collapsed": false,
    "scrolled": false
   },
   "outputs": [
    {
     "name": "stdout",
     "output_type": "stream",
     "text": [
      "3\n",
      "1\n",
      "4\n",
      "0\n",
      "5\n",
      "2\n",
      "6\n"
     ]
    }
   ],
   "source": [
    "for i in inOrder2(tr):\n",
    "    print i.value"
   ]
  },
  {
   "cell_type": "code",
   "execution_count": 192,
   "metadata": {
    "collapsed": false
   },
   "outputs": [
    {
     "name": "stdout",
     "output_type": "stream",
     "text": [
      "4\n",
      "2\n",
      "6\n"
     ]
    },
    {
     "data": {
      "text/plain": [
       "[0, 1, 3, 1, 4, 0, 2, 5, 2, 6]"
      ]
     },
     "execution_count": 192,
     "metadata": {},
     "output_type": "execute_result"
    }
   ],
   "source": [
    "preOrder2(tr)"
   ]
  },
  {
   "cell_type": "code",
   "execution_count": 147,
   "metadata": {
    "collapsed": false
   },
   "outputs": [
    {
     "name": "stdout",
     "output_type": "stream",
     "text": [
      "<__main__.Node instance at 0x103f33878>\n",
      "<__main__.Node instance at 0x103f33878>\n",
      "True\n"
     ]
    }
   ],
   "source": [
    "a = tr.root\n",
    "print a\n",
    "s = [a]\n",
    "print s[-1]\n",
    "print a == s[-1]"
   ]
  }
 ],
 "metadata": {
  "kernelspec": {
   "display_name": "Python [Root]",
   "language": "python",
   "name": "Python [Root]"
  },
  "language_info": {
   "codemirror_mode": {
    "name": "ipython",
    "version": 2
   },
   "file_extension": ".py",
   "mimetype": "text/x-python",
   "name": "python",
   "nbconvert_exporter": "python",
   "pygments_lexer": "ipython2",
   "version": "2.7.12"
  }
 },
 "nbformat": 4,
 "nbformat_minor": 0
}
