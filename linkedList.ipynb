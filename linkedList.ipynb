{
 "cells": [
  {
   "cell_type": "markdown",
   "metadata": {},
   "source": [
    "# 3월 24일\n",
    "\n",
    "h: dummy node\n",
    "    \n",
    "+) 더미에 사이즈를 추가해주면 쉽게 알 수 있음. 지금짠 코드는 앞에서부터 세는 방법 밖에 없음."
   ]
  },
  {
   "cell_type": "markdown",
   "metadata": {},
   "source": [
    "### 5~9 : moving operations"
   ]
  },
  {
   "cell_type": "code",
   "execution_count": 1,
   "metadata": {
    "collapsed": false
   },
   "outputs": [
    {
     "ename": "SyntaxError",
     "evalue": "invalid syntax (<ipython-input-1-ea664cf36dff>, line 2)",
     "output_type": "error",
     "traceback": [
      "\u001b[0;36m  File \u001b[0;32m\"<ipython-input-1-ea664cf36dff>\"\u001b[0;36m, line \u001b[0;32m2\u001b[0m\n\u001b[0;31m    def moveAfter(handle b, handle aprime):\u001b[0m\n\u001b[0m                         ^\u001b[0m\n\u001b[0;31mSyntaxError\u001b[0m\u001b[0;31m:\u001b[0m invalid syntax\n"
     ]
    }
   ],
   "source": [
    "#7\n",
    "def moveAfter(handle b, handle aprime):\n",
    "    # ...abc ... a'c' --> ...ac...a'b c'\n",
    "    splice(b,b,aprime)\n",
    "def moveBefore():\n",
    "    # 똑같이 만들면 됨"
   ]
  },
  {
   "cell_type": "code",
   "execution_count": null,
   "metadata": {
    "collapsed": true
   },
   "outputs": [],
   "source": [
    "# 8. b노드를 맨 앞으로 옮기기 (first가 되도록)\n",
    "def moveToFront(handle b, handle h): #h는 더미 즉, h바로 다음으로 오게 하기\n",
    "    moveAfter(b, h)"
   ]
  },
  {
   "cell_type": "code",
   "execution_count": null,
   "metadata": {
    "collapsed": true
   },
   "outputs": [],
   "source": [
    "# 9. b노드를 last노드가 되도록 (맨 뒤로 옮기기)\n",
    "def moveToBack(handle b, handle h)\n",
    "    moveAfter(b, last(h)) # b를 h의 last 뒤로 옮겨라  #last() : 5번 함수"
   ]
  },
  {
   "cell_type": "markdown",
   "metadata": {},
   "source": [
    "### Deleting Operations\n",
    "int형"
   ]
  },
  {
   "cell_type": "code",
   "execution_count": null,
   "metadata": {
    "collapsed": true
   },
   "outputs": [],
   "source": [
    "# 10\n",
    "def remove(handle b): #int형\n",
    "    # F는 global variable로 선언해서 자주 사용할 수 있게 하면 편함.\n",
    "    moveAfter(b,F) #b를 떼서 free list로 보내기 (이렇게 하면 free list의 first가 됨)\n",
    "    return b.element\n"
   ]
  },
  {
   "cell_type": "code",
   "execution_count": null,
   "metadata": {
    "collapsed": true
   },
   "outputs": [],
   "source": [
    "# 11 어떤 리스트의 first를 return (pop)\n",
    "def popFront(handle h):\n",
    "    return remove(first(h))\n",
    "\n",
    "# 12 리스트의 last를 return\n",
    "def popBack(handle h):\n",
    "    return remove(last(h))"
   ]
  },
  {
   "cell_type": "markdown",
   "metadata": {},
   "source": [
    "### Insert Operations\n",
    "13~18 : handle 형"
   ]
  },
  {
   "cell_type": "code",
   "execution_count": null,
   "metadata": {
    "collapsed": true
   },
   "outputs": [],
   "source": [
    "# 13\n",
    "def insertAfter(int e, handle a):\n",
    "    #새로운 노드(e)를 하나 만들어서 a라는 노드 뒤에 넣기\n",
    "    a_prime = checkFreeList() #2번 함수\n",
    "    a.element = e\n",
    "    return moveAfter(a_prime, a) #7번 함수\n",
    "    \n",
    "# 14\n",
    "def insertBefore(int e, handle a):\n",
    "    a_prime = checkFreeList() #2번 함수\n",
    "    a.element = e\n",
    "    return moveAfter(a_prime, a.prev)"
   ]
  },
  {
   "cell_type": "code",
   "execution_count": null,
   "metadata": {
    "collapsed": true
   },
   "outputs": [],
   "source": [
    "# 15 : list 의 프론트에 넣기\n",
    "def pushFront(int e, handle h):\n",
    "    return insertAfter(e,h)\n",
    "\n",
    "#16\n",
    "def pushBack(list e, handle h):\n",
    "    return insertAfter(E,last(h))"
   ]
  },
  {
   "cell_type": "code",
   "execution_count": null,
   "metadata": {
    "collapsed": true
   },
   "outputs": [],
   "source": [
    "#17 : 두개의 list 결합 (h리스트 뒤에 h' 리스트를 연결) ####### 합친다: concatenation\n",
    "def concat(handle h_prime, handle h):\n",
    "     return splice(first(h_prime), last(h_prime), last(h))"
   ]
  },
  {
   "cell_type": "code",
   "execution_count": null,
   "metadata": {
    "collapsed": true
   },
   "outputs": [],
   "source": [
    "#18 하나의 리스트를 a에서 끊어서 리스트 두개로 쪼개기\n",
    "def split(handle a, handle h):\n",
    "    h_prime = createList()\n",
    "    splice(a,last(h), h_prime)\n",
    "    return h_prime"
   ]
  },
  {
   "cell_type": "code",
   "execution_count": null,
   "metadata": {
    "collapsed": true
   },
   "outputs": [],
   "source": [
    "#19 리스트에 녿드들 다 지우기 (void 형)\n",
    "def makeEmpty(handle h):\n",
    "    concat(h,F) #freelist로 다 보내버리기"
   ]
  },
  {
   "cell_type": "code",
   "execution_count": null,
   "metadata": {
    "collapsed": true
   },
   "outputs": [],
   "source": [
    "#20 handle형\n",
    "def findNext(int x, handle from, handle h): #from이란 노드에서 끝까지 뒤지기. 나올때까지\n",
    "    #x값의 노드를 리턴, 없으면 더미노드 리턴\n",
    "    h.element = x #더미에 넣고 시작\n",
    "    while from.element != x:\n",
    "        from=from.next\n",
    "    return from # 중간에 x가 없었다면, 더미가 return됨. //// 있다면 while문 중간에 끝나고 찾은 그 노드가 리턴됨."
   ]
  },
  {
   "cell_type": "code",
   "execution_count": null,
   "metadata": {
    "collapsed": true
   },
   "outputs": [],
   "source": []
  },
  {
   "cell_type": "code",
   "execution_count": null,
   "metadata": {
    "collapsed": true
   },
   "outputs": [],
   "source": [
    "#21 전체 노드 보여주기\n",
    "def printList(handle h):\n",
    "    pass"
   ]
  }
 ],
 "metadata": {
  "kernelspec": {
   "display_name": "Python 2",
   "language": "python",
   "name": "python2"
  },
  "language_info": {
   "codemirror_mode": {
    "name": "ipython",
    "version": 2
   },
   "file_extension": ".py",
   "mimetype": "text/x-python",
   "name": "python",
   "nbconvert_exporter": "python",
   "pygments_lexer": "ipython2",
   "version": "2.7.11"
  }
 },
 "nbformat": 4,
 "nbformat_minor": 0
}
