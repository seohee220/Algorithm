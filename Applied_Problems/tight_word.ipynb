{
 "cells": [
  {
   "cell_type": "markdown",
   "metadata": {},
   "source": [
    "http://183.106.15.130/30stair/tight/tight.php?pname=tight\n",
    "\n",
    "프로그램 명: tight\n",
    "제한시간: 1 초\n",
    "tight word 란?\n",
    "\n",
    "인접한 수의 차가 1 을 넘지않는 수\n",
    "000,010,110,123,.... tight word\n",
    "013,003,124,125,.... tight word 아님\n",
    "사용 가능한 수 0,1,2,...k (0 <= k <= 9) 와 자리수 n 이 주어질 때 가능한 것 중 tight word 의 백분율을 구하는 문제.\n",
    "\n",
    "입력의 예에서 2 5 인 경우 0,1,2 세개의 수로 5 자리를 사용하여 tight word 의 백분율은 40.74074\n",
    "\n",
    "입력\n",
    "\n",
    "k 와 n ( 1 <= n <= 100 ) 이 주어진다.\n",
    "\n",
    "출력\n",
    "\n",
    "백분율을 소수 5 자리까지 출력한다.\n",
    "\n",
    "입출력 예\n",
    "\n",
    "입력\n",
    "\n",
    "4 1\n",
    "\n",
    "출력\n",
    "\n",
    "100.00000\n",
    "\n",
    "입력\n",
    "\n",
    "2 5\n",
    "\n",
    "출력\n",
    "\n",
    "40.74074\n",
    "출처:Waterloo local 2001.01.27"
   ]
  },
  {
   "cell_type": "code",
   "execution_count": 23,
   "metadata": {
    "collapsed": false
   },
   "outputs": [],
   "source": [
    "def find_num_tights(n,k):\n",
    "    for i in range(1,n):\n",
    "        for j in range(k+1):\n",
    "            if j==0:\n",
    "                num_of_cases[i][j] = num_of_cases[i-1][j] + num_of_cases[i-1][j+1]\n",
    "            elif j==k:\n",
    "                num_of_cases[i][j] = num_of_cases[i-1][j-1] + num_of_cases[i-1][j]\n",
    "            else:\n",
    "                num_of_cases[i][j] = num_of_cases[i-1][j-1] + num_of_cases[i-1][j] + num_of_cases[i-1][j+1]\n",
    "    return sum(num_of_cases[-1])"
   ]
  },
  {
   "cell_type": "code",
   "execution_count": 35,
   "metadata": {
    "collapsed": false
   },
   "outputs": [
    {
     "name": "stdout",
     "output_type": "stream",
     "text": [
      "0 8\n",
      "100.00000\n"
     ]
    }
   ],
   "source": [
    "# input\n",
    "k,n = raw_input().split() \n",
    "k = int(k) # 0..k\n",
    "n = int(n) # 자릿 수\n",
    "\n",
    "num_of_cases = [[1 for i in range(k+1)] for j in range(n)]\n",
    "if k==0:\n",
    "    percentage = 100\n",
    "else:\n",
    "    num_of_tights = find_num_tights(n,k)\n",
    "    percentage = num_of_tights*100/ float(k+1)**n \n",
    "print \"%.5f\" %(percentage)"
   ]
  },
  {
   "cell_type": "markdown",
   "metadata": {},
   "source": [
    "풀이\n"
   ]
  }
 ],
 "metadata": {
  "anaconda-cloud": {},
  "kernelspec": {
   "display_name": "Python [Root]",
   "language": "python",
   "name": "Python [Root]"
  },
  "language_info": {
   "codemirror_mode": {
    "name": "ipython",
    "version": 2
   },
   "file_extension": ".py",
   "mimetype": "text/x-python",
   "name": "python",
   "nbconvert_exporter": "python",
   "pygments_lexer": "ipython2",
   "version": "2.7.12"
  }
 },
 "nbformat": 4,
 "nbformat_minor": 0
}
