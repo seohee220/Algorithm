{
 "cells": [
  {
   "cell_type": "code",
   "execution_count": 2,
   "metadata": {
    "collapsed": false
   },
   "outputs": [
    {
     "data": {
      "text/plain": [
       "3"
      ]
     },
     "execution_count": 2,
     "metadata": {},
     "output_type": "execute_result"
    }
   ],
   "source": [
    "a=3\n",
    "a"
   ]
  },
  {
   "cell_type": "code",
   "execution_count": null,
   "metadata": {
    "collapsed": true
   },
   "outputs": [],
   "source": []
  },
  {
   "cell_type": "code",
   "execution_count": 3,
   "metadata": {
    "collapsed": true
   },
   "outputs": [],
   "source": [
    "strings = ['toast','standard','bank','display','book']"
   ]
  },
  {
   "cell_type": "code",
   "execution_count": 5,
   "metadata": {
    "collapsed": false
   },
   "outputs": [
    {
     "name": "stdout",
     "output_type": "stream",
     "text": [
      "o\n",
      "a\n"
     ]
    }
   ],
   "source": [
    "str='toast'\n",
    "vowels = ['a','e','i','o','u']\n",
    "\n",
    "\n",
    "vowel = 0    #모음\n",
    "consonant = 0 #자음\n",
    "\n",
    "for s in str:\n",
    "    if s in vowel:\n",
    "        vowel+=1\n",
    "        if consonant==3:\n",
    "            return str, 3\n",
    "    else:\n",
    "        consonant+=1\n",
    "        if vowel==2:\n",
    "            return str, 2"
   ]
  },
  {
   "cell_type": "code",
   "execution_count": 30,
   "metadata": {
    "collapsed": false
   },
   "outputs": [],
   "source": [
    "\n",
    "\n",
    "def findWord(str):\n",
    "    global vowels\n",
    "    global vowelWord\n",
    "    global ConsoWord\n",
    "    vowel=0\n",
    "    consonant=0\n",
    "    \n",
    "    \n",
    "    for s in str: # 주어진 단어의 알파벳(char)을 하나씩 돌면서\n",
    "        if s in vowels: # 그 알파벳이 모음이면 (즉, a,e,i,o,u에 들어있으면)\n",
    "            vowel+=1    # 모음 카운트 +1\n",
    "            if consonant==3: # 그런데 이 전까지 셌던 자음이 3개면\n",
    "                ConsoWord+=1 # consonant3개짜리 단어 카운트 +1\n",
    "                return str, 3 # (이건 알아서 리턴 다른걸로 하던지 하고)\n",
    "            consonant=0 # 위에서 리턴안되면 여기로 올테니까 자음카운트 초기화\n",
    "        else:\n",
    "            consonant+=1\n",
    "            if vowel==2:\n",
    "                vowelWord+=1\n",
    "                return str, 2\n",
    "            vowel=0\n",
    "            \n",
    "    return str, 'none'"
   ]
  },
  {
   "cell_type": "code",
   "execution_count": 31,
   "metadata": {
    "collapsed": false
   },
   "outputs": [
    {
     "name": "stdout",
     "output_type": "stream",
     "text": [
      "('toast', 2)\n",
      "('standard', 'none')\n",
      "('bank', 'none')\n",
      "('display', 3)\n",
      "('book', 2)\n",
      "2\n",
      "1\n"
     ]
    }
   ],
   "source": [
    "global vowels\n",
    "vowels = ['a','e','i','o','u'] # 모음 정의\n",
    "\n",
    "global vowelWord\n",
    "global ConsoWord\n",
    "vowelWord=0\n",
    "ConsoWord=0\n",
    "\n",
    "for str in strings:\n",
    "    print findWord(str)\n",
    "print vowelWord\n",
    "print ConsoWord"
   ]
  },
  {
   "cell_type": "code",
   "execution_count": 32,
   "metadata": {
    "collapsed": false
   },
   "outputs": [
    {
     "data": {
      "text/plain": [
       "('displday', 'none')"
      ]
     },
     "execution_count": 32,
     "metadata": {},
     "output_type": "execute_result"
    }
   ],
   "source": [
    "findWord('displday')"
   ]
  }
 ],
 "metadata": {
  "anaconda-cloud": {},
  "kernelspec": {
   "display_name": "Python [Root]",
   "language": "python",
   "name": "Python [Root]"
  },
  "language_info": {
   "codemirror_mode": {
    "name": "ipython",
    "version": 2
   },
   "file_extension": ".py",
   "mimetype": "text/x-python",
   "name": "python",
   "nbconvert_exporter": "python",
   "pygments_lexer": "ipython2",
   "version": "2.7.12"
  }
 },
 "nbformat": 4,
 "nbformat_minor": 0
}
