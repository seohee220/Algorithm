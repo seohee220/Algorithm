{
 "cells": [
  {
   "cell_type": "markdown",
   "metadata": {},
   "source": [
    "문제 1)\n",
    "크기가 N인 Integer List가 주어졌을 때, N보다 작은값 K가 주어졌을 때,\n",
    "리스트 내의 K개 이하 홀수값의 합을 구하는 함수를 작성하시오.\n",
    "\n",
    "\n",
    "N = [1, 2, 3, 4, 5, 6, 7]\n",
    "\n",
    "K = 2\n",
    "\n",
    "4 = 1 + 3\n",
    "\n",
    "\n",
    "\n",
    "N = [1, 2, 3, 4, 5, 6, 7]\n",
    "\n",
    "K = 6\n",
    "\n",
    "16 = 1 + 3 + 5 + 7\n",
    "\n",
    "\n",
    "\n",
    "N = [1, 2, 3, 4, 5, 6, 7]\n",
    "\n",
    "K = 1\n",
    "\n",
    "1"
   ]
  },
  {
   "cell_type": "code",
   "execution_count": 1,
   "metadata": {
    "collapsed": true
   },
   "outputs": [],
   "source": [
    "def cal_sum_of_odd(N,K):\n",
    "    cnt=0\n",
    "    summ=0\n",
    "    for n in N:\n",
    "        if n%2==1:\n",
    "            cnt+=1\n",
    "            summ+=n\n",
    "            if cnt==K:\n",
    "                return summ\n",
    "    return summ"
   ]
  },
  {
   "cell_type": "code",
   "execution_count": 4,
   "metadata": {
    "collapsed": false
   },
   "outputs": [
    {
     "data": {
      "text/plain": [
       "4"
      ]
     },
     "execution_count": 4,
     "metadata": {},
     "output_type": "execute_result"
    }
   ],
   "source": [
    "N = [1, 2, 3, 4, 5, 6, 7]\n",
    "K = 2\n",
    "cal_sum_of_odd(N,K)"
   ]
  },
  {
   "cell_type": "markdown",
   "metadata": {},
   "source": [
    "### SAMPLE CODE"
   ]
  },
  {
   "cell_type": "code",
   "execution_count": 11,
   "metadata": {
    "collapsed": false
   },
   "outputs": [
    {
     "name": "stdout",
     "output_type": "stream",
     "text": [
      "16\n"
     ]
    }
   ],
   "source": [
    "# Python\n",
    "n = range(1, 8) # [1, 2, 3, 4, 5, 6, 7]\n",
    "k = 5\n",
    "m = [x for x in n if x % 2 == 1] # [1, 3, 5, 7]\n",
    "result = sum(m[:k]) # m[:k] = [1, 3], sum(m[:k]) = 4\n",
    "print(result)"
   ]
  },
  {
   "cell_type": "raw",
   "metadata": {},
   "source": [
    "N이 커질 수록 iterator, generator 사용하면 좋아(?)"
   ]
  },
  {
   "cell_type": "markdown",
   "metadata": {},
   "source": [
    "# 3"
   ]
  },
  {
   "cell_type": "markdown",
   "metadata": {},
   "source": [
    "문제 3)\n",
    "크기가 N인 Integer List가 주어졌을 때, N보다 작은값 K가 주어졌을 때,\n",
    "리스트 내의 가장 작은 값 K개의 차를 구하는 함수를 작성하시오."
   ]
  },
  {
   "cell_type": "code",
   "execution_count": 22,
   "metadata": {
    "collapsed": false
   },
   "outputs": [
    {
     "data": {
      "text/plain": [
       "<generator object firstn at 0x103dfed70>"
      ]
     },
     "execution_count": 22,
     "metadata": {},
     "output_type": "execute_result"
    }
   ],
   "source": [
    "def firstn(n):\n",
    "    num = 0\n",
    "    while num < n:\n",
    "        yield num\n",
    "        num += 1\n",
    "firstn(0)\n"
   ]
  },
  {
   "cell_type": "code",
   "execution_count": 55,
   "metadata": {
    "collapsed": false
   },
   "outputs": [],
   "source": [
    "a = iter(N)"
   ]
  },
  {
   "cell_type": "code",
   "execution_count": 60,
   "metadata": {
    "collapsed": false
   },
   "outputs": [
    {
     "data": {
      "text/plain": [
       "5"
      ]
     },
     "execution_count": 60,
     "metadata": {},
     "output_type": "execute_result"
    }
   ],
   "source": [
    "a.next()"
   ]
  },
  {
   "cell_type": "markdown",
   "metadata": {},
   "source": [
    "# 3"
   ]
  },
  {
   "cell_type": "markdown",
   "metadata": {},
   "source": [
    "문제 3)\n",
    "주어진 문자열의 White space를 모두 없애는 함수를 작성하시오. \n",
    "White space는 '공백', '탭', '개행 문자'라고 가정함."
   ]
  },
  {
   "cell_type": "code",
   "execution_count": 65,
   "metadata": {
    "collapsed": false
   },
   "outputs": [
    {
     "data": {
      "text/plain": [
       "'abcdefghi'"
      ]
     },
     "execution_count": 65,
     "metadata": {},
     "output_type": "execute_result"
    }
   ],
   "source": [
    "def remove_whitespace(str):\n",
    "    new_str=''\n",
    "    for s in str.split():\n",
    "        new_str+=s\n",
    "    return new_str\n",
    "remove_whitespace('abc def\\t ghi\\n')"
   ]
  },
  {
   "cell_type": "code",
   "execution_count": 87,
   "metadata": {
    "collapsed": false
   },
   "outputs": [
    {
     "ename": "TypeError",
     "evalue": "expected a string or other character buffer object",
     "output_type": "error",
     "traceback": [
      "\u001b[0;31m---------------------------------------------------------------------------\u001b[0m",
      "\u001b[0;31mTypeError\u001b[0m                                 Traceback (most recent call last)",
      "\u001b[0;32m<ipython-input-87-38bea38b9b5e>\u001b[0m in \u001b[0;36m<module>\u001b[0;34m()\u001b[0m\n\u001b[1;32m      1\u001b[0m \u001b[0;31m# ' hello\\n  apple\\t dfefaefaefeafe\\n '.translate(None, ' \\n\\t\\r')\u001b[0m\u001b[0;34m\u001b[0m\u001b[0;34m\u001b[0m\u001b[0m\n\u001b[0;32m----> 2\u001b[0;31m \u001b[0;34m' hello\\n  apple\\t dfefaefaefeafe\\n '\u001b[0m\u001b[0;34m.\u001b[0m\u001b[0mtranslate\u001b[0m\u001b[0;34m(\u001b[0m\u001b[0;34m{\u001b[0m\u001b[0mord\u001b[0m\u001b[0;34m(\u001b[0m\u001b[0;34m'h'\u001b[0m\u001b[0;34m)\u001b[0m\u001b[0;34m:\u001b[0m\u001b[0;36m1\u001b[0m\u001b[0;34m,\u001b[0m \u001b[0mord\u001b[0m\u001b[0;34m(\u001b[0m\u001b[0;34m'p'\u001b[0m\u001b[0;34m)\u001b[0m\u001b[0;34m:\u001b[0m\u001b[0;36m2\u001b[0m\u001b[0;34m}\u001b[0m\u001b[0;34m)\u001b[0m\u001b[0;34m\u001b[0m\u001b[0m\n\u001b[0m\u001b[1;32m      3\u001b[0m \u001b[0;31m# 'abcdeabcdefafbfcfdfggislhi'.translate(None, 'abc')\u001b[0m\u001b[0;34m\u001b[0m\u001b[0;34m\u001b[0m\u001b[0m\n",
      "\u001b[0;31mTypeError\u001b[0m: expected a string or other character buffer object"
     ]
    }
   ],
   "source": [
    "# ' hello\\n  apple\\t dfefaefaefeafe\\n '.translate(None, ' \\n\\t\\r')\n",
    "' hello\\n  apple\\t dfefaefaefeafe\\n '.translate({ord('h'):1, ord('p'):2})\n",
    "# 'abcdeabcdefafbfcfdfggislhi'.translate(None, 'abc')"
   ]
  }
 ],
 "metadata": {
  "anaconda-cloud": {},
  "kernelspec": {
   "display_name": "Python [Root]",
   "language": "python",
   "name": "Python [Root]"
  },
  "language_info": {
   "codemirror_mode": {
    "name": "ipython",
    "version": 2
   },
   "file_extension": ".py",
   "mimetype": "text/x-python",
   "name": "python",
   "nbconvert_exporter": "python",
   "pygments_lexer": "ipython2",
   "version": "2.7.12"
  }
 },
 "nbformat": 4,
 "nbformat_minor": 0
}
