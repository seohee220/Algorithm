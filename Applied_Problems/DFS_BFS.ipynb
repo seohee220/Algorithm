{
 "cells": [
  {
   "cell_type": "markdown",
   "metadata": {},
   "source": [
    "# 문제\n",
    "그래프를 DFS로 탐색한 결과와 BFS로 탐색한 결과를 출력하는 프로그램을 작성하시오. 단, 방문할 수 있는 정점이 여러 개인 경우에는 정점 번호가 작은 것을 먼저 방문하고, 더 이상 방문할 수 있는 점이 없는 경우 종료한다.\n",
    "\n",
    "### 입력\n",
    "첫째 줄에 정점의 개수 N(1≤N≤1,000), 간선의 개수 M(1≤M≤10,000), 탐색을 시작할 정점의 번호 V가 주어진다. 다음 M개의 줄에는 간선이 연결하는 두 정점의 번호가 주어진다. 한 간선이 여러 번 주어질 수도 있는데, 간선이 하나만 있는 것으로 생각하면 된다. 입력으로 주어지는 간선은 양방향이다.\n",
    "\n",
    "### 출력\n",
    "첫째 줄에 DFS를 수행한 결과를, 그 다음 줄에는 BFS를 수행한 결과를 출력한다. V부터 방문된 점을 순서대로 출력하면 된다.\n",
    "\n",
    "### 예제\n",
    "- 입력<br>\n",
    "4 5 1 <br>\n",
    "1 2<br>\n",
    "1 3<br>\n",
    "1 4<br>\n",
    "2 4<br>\n",
    "3 4\n",
    "\n",
    "\n",
    "- 출력<br>\n",
    "1 2 4 3<br>\n",
    "1 2 3 4\n",
    "\n",
    "#### 출처\n",
    "https://www.acmicpc.net/problem/1260"
   ]
  },
  {
   "cell_type": "code",
   "execution_count": 1,
   "metadata": {
    "collapsed": true
   },
   "outputs": [],
   "source": [
    "def input():\n",
    "    num_of_nodes, num_of_edges, start = map(int, raw_input().split())\n",
    "    maps={i+1:[] for i in range(num_of_nodes)}\n",
    "    for i in range(num_of_edges):\n",
    "        par, child = map(int, raw_input().split())\n",
    "        maps[par].append(child)\n",
    "        maps[child].append(par)\n",
    "    for m in maps:\n",
    "        maps[m] = sorted(set(maps[m]))\n",
    "    return num_of_nodes, num_of_edges, start, maps\n",
    "\n",
    "def dfs2(maps, parent, order):\n",
    "    for ch in maps[parent]:\n",
    "        if not ch in order:\n",
    "            order.append(ch)\n",
    "            dfs2(maps, ch, order)\n",
    "    return order\n",
    "\n",
    "def bfs(maps, start):\n",
    "    q = []\n",
    "    q.append(start)\n",
    "    order=[start]\n",
    "    while(len(q)!=0):\n",
    "        parent = q.pop(0)\n",
    "        for child in maps[parent]:\n",
    "            if not child in order:\n",
    "                q.append(child)\n",
    "                order.append(child)\n",
    "    return order"
   ]
  },
  {
   "cell_type": "code",
   "execution_count": 2,
   "metadata": {
    "collapsed": false
   },
   "outputs": [
    {
     "name": "stdout",
     "output_type": "stream",
     "text": [
      "4 5 1\n",
      "1 2\n",
      "1 3\n",
      "1 4\n",
      "2 4\n",
      "3 4\n",
      "1 2 4 3\n",
      "1 2 3 4\n"
     ]
    }
   ],
   "source": [
    "num_of_nodes, num_of_edges, start, maps = input()\n",
    "\n",
    "print ' '.join(map(str,dfs2(maps, start, [start])))\n",
    "print ' '.join(map(str,bfs(maps, start)))"
   ]
  },
  {
   "cell_type": "markdown",
   "metadata": {},
   "source": [
    "# Report\n",
    "\n",
    "### 놓쳤던 조건\n",
    "    - 양방향 edge\n",
    "    - 여러 개인 경우에는 정점 번호가 작은 것을 먼저 방문 (sort)\n",
    "\n",
    "### 문법\n",
    "    - while(len(q)!=0)  <=>  while(q)\n",
    "    \n",
    "### 푼 시간\n",
    "    - 총 약 4시간\n",
    "    \n",
    "### 메모리 및 시간\n",
    "    - 572MB 32284KB \n",
    "    - 메모리, 시간 둘 다 다른 사람들보다 안 좋은 편.\n",
    "    \n",
    "### 참고\n",
    "    - https://1ambda.github.io/algorithm/design-and-analysis-part1-4/"
   ]
  }
 ],
 "metadata": {
  "anaconda-cloud": {},
  "kernelspec": {
   "display_name": "Python [Root]",
   "language": "python",
   "name": "Python [Root]"
  },
  "language_info": {
   "codemirror_mode": {
    "name": "ipython",
    "version": 2
   },
   "file_extension": ".py",
   "mimetype": "text/x-python",
   "name": "python",
   "nbconvert_exporter": "python",
   "pygments_lexer": "ipython2",
   "version": "2.7.12"
  }
 },
 "nbformat": 4,
 "nbformat_minor": 0
}
