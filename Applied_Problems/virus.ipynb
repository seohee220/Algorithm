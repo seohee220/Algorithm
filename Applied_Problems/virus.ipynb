{
 "cells": [
  {
   "cell_type": "markdown",
   "metadata": {},
   "source": [
    "# 문제\n",
    "신종 바이러스인 웜 바이러스는 네트워크를 통해 전파된다. 한 컴퓨터가 웜 바이러스에 걸리면 그 컴퓨터와 네트워크 상에서 연결되어 있는 모든 컴퓨터는 웜 바이러스에 걸리게 된다.\n",
    "\n",
    "예를 들어 7대의 컴퓨터가 <그림 1>과 같이 네트워크 상에서 연결되어 있다고 하자. 1번 컴퓨터가 웜 바이러스에 걸리면 웜 바이러스는 2번과 5번 컴퓨터를 거쳐 3번과 6번 컴퓨터까지 전파되어 2, 3, 5, 6 네 대의 컴퓨터는 웜 바이러스에 걸리게 된다. 하지만 4번과 7번 컴퓨터는 1번 컴퓨터와 네트워크상에서 연결되어 있지 않기 때문에 영향을 받지 않는다.\n",
    "<pre>\n",
    "1-2-3 4\n",
    " \\\\|   |\n",
    "  5-6 7\n",
    "</pre>\n",
    "어느 날 1번 컴퓨터가 웜 바이러스에 걸렸다. 컴퓨터의 수와 네트워크 상에서 서로 연결되어 있는 정보가 주어질 때, 1번 컴퓨터를 통해 웜 바이러스에 걸리게 되는 컴퓨터의 수를 출력하는 프로그램을 작성하시오.\n",
    "\n",
    "### 입력\n",
    "첫째 줄에는 컴퓨터의 수가 주어진다. 컴퓨터의 수는 100 이하이고 각 컴퓨터에는 1번 부터 차례대로 번호가 매겨진다. 둘째 줄에는 네트워크 상에서 직접 연결되어 있는 컴퓨터 쌍의 수가 주어진다. 이어서 그 수만큼 한 줄에 한 쌍씩 네트워크 상에서 직접 연결되어 있는 컴퓨터의 번호 쌍이 주어진다.\n",
    "\n",
    "### 출력\n",
    "1번 컴퓨터가 웜 바이러스에 걸렸을 때, 1번 컴퓨터를 통해 웜 바이러스에 걸리게 되는 컴퓨터의 수를 첫째 줄에 출력한다.\n",
    "\n",
    "### 예제\n",
    "- 입력<br>\n",
    "7<br>\n",
    "6<br>\n",
    "1 2<br>\n",
    "2 3<br>\n",
    "1 5<br>\n",
    "5 2<br>\n",
    "5 6<br>\n",
    "4 7\n",
    "\n",
    "\n",
    "- 출력<br>\n",
    "4\n",
    "\n",
    "#### 출처\n",
    "https://www.acmicpc.net/problem/2606"
   ]
  },
  {
   "cell_type": "code",
   "execution_count": 1,
   "metadata": {
    "collapsed": false
   },
   "outputs": [],
   "source": [
    "def input_data():\n",
    "    num_of_nodes = input()\n",
    "    num_of_edges = input()\n",
    "\n",
    "    network = dict()\n",
    "    for i in range(num_of_nodes):\n",
    "        network[i+1] = set()\n",
    "\n",
    "    for i in range(num_of_edges):\n",
    "        u,v = map(int,raw_input().split())\n",
    "        network[u].add(v)\n",
    "        network[v].add(u)\n",
    "    return network\n",
    "        \n",
    "def bfs(network):\n",
    "    if not network[1]:\n",
    "        return 0\n",
    "\n",
    "    order=[]\n",
    "    q = []\n",
    "    q.append(1)\n",
    "    while q:\n",
    "        u = q.pop(0)\n",
    "        for v in network[u]:\n",
    "            if not v in order and v!=1:\n",
    "                order.append(v)\n",
    "                q.append(v)\n",
    "    return len(order)"
   ]
  },
  {
   "cell_type": "code",
   "execution_count": 2,
   "metadata": {
    "collapsed": false
   },
   "outputs": [
    {
     "name": "stdout",
     "output_type": "stream",
     "text": [
      "7\n",
      "6\n",
      "1 2\n",
      "2 3\n",
      "1 5\n",
      "5 2\n",
      "5 6\n",
      "4 7\n"
     ]
    },
    {
     "data": {
      "text/plain": [
       "4"
      ]
     },
     "execution_count": 2,
     "metadata": {},
     "output_type": "execute_result"
    }
   ],
   "source": [
    "network = input_data()\n",
    "bfs(network)"
   ]
  },
  {
   "cell_type": "code",
   "execution_count": null,
   "metadata": {
    "collapsed": true
   },
   "outputs": [],
   "source": [
    "num_of_nodes = input()\n",
    "num_of_edges = input()\n",
    "\n",
    "network = dict()\n",
    "for i in range(num_of_nodes):\n",
    "    network[i+1] = set()\n",
    "\n",
    "for i in range(num_of_edges):\n",
    "    u,v = map(int,raw_input().split())\n",
    "    network[u].add(v)\n",
    "    network[v].add(u)\n",
    "    \n",
    "    \n",
    "if not network[1]:\n",
    "    print 0\n",
    "\n",
    "order=[]\n",
    "q = []\n",
    "q.append(1)\n",
    "while q:\n",
    "    u = q.pop(0)\n",
    "    for v in network[u]:\n",
    "        if not v in order and v!=1:\n",
    "            order.append(v)\n",
    "            q.append(v)\n",
    "print len(order)"
   ]
  },
  {
   "cell_type": "markdown",
   "metadata": {},
   "source": [
    "# Report\n",
    "\n",
    "### 놓쳤던 조건\n",
    "    - 없음\n",
    "\n",
    "### 문법\n",
    "    - \n",
    "    \n",
    "### 푼 시간\n",
    "    - 약 20분\n",
    "    \n",
    "### 메모리 및 시간\n",
    "    - 31316KB, 80MS \n",
    "    - 메모리 많이 안 좋음 시간 조금 안 좋음.\n",
    "    \n",
    "### 비고\n",
    "    - 이 전에 풀었던 DFS, BFS를 풀었어서 쉽게 풀 수 있었음."
   ]
  }
 ],
 "metadata": {
  "anaconda-cloud": {},
  "kernelspec": {
   "display_name": "Python [Root]",
   "language": "python",
   "name": "Python [Root]"
  },
  "language_info": {
   "codemirror_mode": {
    "name": "ipython",
    "version": 2
   },
   "file_extension": ".py",
   "mimetype": "text/x-python",
   "name": "python",
   "nbconvert_exporter": "python",
   "pygments_lexer": "ipython2",
   "version": "2.7.12"
  }
 },
 "nbformat": 4,
 "nbformat_minor": 0
}
