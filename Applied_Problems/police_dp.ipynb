{
 "cells": [
  {
   "cell_type": "code",
   "execution_count": null,
   "metadata": {
    "collapsed": true
   },
   "outputs": [],
   "source": [
    "# n = 6\n",
    "# m = 4\n",
    "# position = [(1,1),(n,n)]+[(1,3),(3,2),(1,3),(4,1)]\n",
    "\n",
    "# n = 8\n",
    "# m = 7\n",
    "# position = [(1,1),(n,n)]+[(1, 2),(1, 7),(2, 6),(3, 5),(4, 5),(3, 6),(7, 1)]\n",
    "\n",
    "# n = 11\n",
    "# m = 11\n",
    "# position = [(1,1),(n,n)]+[(9, 3),(9, 3),(3, 9),(3, 9),(3, 3),(3, 3),(3, 3),(5, 9),(5, 9),(10, 3),(10, 3)]"
   ]
  },
  {
   "cell_type": "code",
   "execution_count": 1,
   "metadata": {
    "collapsed": true
   },
   "outputs": [],
   "source": [
    "def distance(a, b):\n",
    "    return abs(a[0]-b[0])+abs(a[1]-b[1])"
   ]
  },
  {
   "cell_type": "code",
   "execution_count": null,
   "metadata": {
    "collapsed": false
   },
   "outputs": [],
   "source": [
    "def makeCostMat(m, position):\n",
    "    cost = [[0 for i in range(m+3)] for j in range(m+2)]\n",
    "\n",
    "    for i in range(m+1):\n",
    "        for j in range(i,m+2):\n",
    "            cost[i][j] = distance(position[i],position[j])\n",
    "    cost[0][1] = 0\n",
    "    return cost"
   ]
  },
  {
   "cell_type": "code",
   "execution_count": null,
   "metadata": {
    "collapsed": false
   },
   "outputs": [],
   "source": [
    "def findMin(m, cost):\n",
    "\n",
    "    dp = [[0 for j in range(m+3)] for i in range(m+2)]\n",
    "    order = [['' for j in range(m+3)] for i in range(m+2)]\n",
    "\n",
    "    for i in range(0,m+2):\n",
    "        for j in range(i+1, m+3):\n",
    "            if j-i==1 and (i,j)!=(0,1):\n",
    "                candidate = [dp[k][i]+cost[k][j] for k in range(i)]\n",
    "                minOfCan = min(candidate)\n",
    "                indexOfMin = candidate.index(minOfCan)\n",
    "                dp[i][j] = minOfCan\n",
    "                order[i][j] = order[indexOfMin][j-1]\n",
    "\n",
    "                if i!=m+1:\n",
    "                    #다른거\n",
    "                    if order[i][j] and order[i][j][-1]=='1':\n",
    "                        order[i][j]+='2'\n",
    "                    else:\n",
    "                        order[i][j]+='1'\n",
    "\n",
    "            elif j-i>1:\n",
    "                dp[i][j] = dp[i][j-1] + cost[j-1][j]\n",
    "                order[i][j] = order[i][j-1]\n",
    "                #같은거\n",
    "                if (i,j)==(0,2):\n",
    "                    order[i][j] = '2'\n",
    "                elif order[i][j]:\n",
    "                    order[i][j]+=order[i][j][-1]\n",
    "    return dp,order"
   ]
  },
  {
   "cell_type": "code",
   "execution_count": null,
   "metadata": {
    "collapsed": false
   },
   "outputs": [],
   "source": [
    "np = raw_input()\n",
    "input = np.split()\n",
    "if len(input)==1:\n",
    "    n = int(input[0])\n",
    "    m = int(raw_input())\n",
    "elif len(input)==2:\n",
    "    n = int(input[0])\n",
    "    m = int(input[1])\n",
    "position = [(1,1),(n,n)]\n",
    "for i in range(m):\n",
    "    a = raw_input().split() #3 5\n",
    "    position.append((int(a[0]),int(a[1]))) # (3,5)"
   ]
  },
  {
   "cell_type": "code",
   "execution_count": null,
   "metadata": {
    "collapsed": false
   },
   "outputs": [],
   "source": [
    "cost = makeCostMat(m,position)"
   ]
  },
  {
   "cell_type": "code",
   "execution_count": null,
   "metadata": {
    "collapsed": false
   },
   "outputs": [],
   "source": [
    "dp,order = findMin(m,cost)"
   ]
  },
  {
   "cell_type": "code",
   "execution_count": null,
   "metadata": {
    "collapsed": false
   },
   "outputs": [],
   "source": [
    "dp"
   ]
  },
  {
   "cell_type": "code",
   "execution_count": null,
   "metadata": {
    "collapsed": false,
    "scrolled": true
   },
   "outputs": [],
   "source": [
    "enter='\\n'\n",
    "print dp[m+1][m+2]\n",
    "print enter.join(order[m+1][m+2])"
   ]
  }
 ],
 "metadata": {
  "kernelspec": {
   "display_name": "Python 2",
   "language": "python",
   "name": "python2"
  },
  "language_info": {
   "codemirror_mode": {
    "name": "ipython",
    "version": 2
   },
   "file_extension": ".py",
   "mimetype": "text/x-python",
   "name": "python",
   "nbconvert_exporter": "python",
   "pygments_lexer": "ipython2",
   "version": "2.7.11"
  }
 },
 "nbformat": 4,
 "nbformat_minor": 0
}
