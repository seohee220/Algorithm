{
 "cells": [
  {
   "cell_type": "code",
   "execution_count": 1,
   "metadata": {
    "collapsed": true
   },
   "outputs": [],
   "source": [
    "s = 0.9808/0.0536"
   ]
  },
  {
   "cell_type": "code",
   "execution_count": 3,
   "metadata": {
    "collapsed": false
   },
   "outputs": [
    {
     "data": {
      "text/plain": [
       "18.298507462686565"
      ]
     },
     "execution_count": 3,
     "metadata": {},
     "output_type": "execute_result"
    }
   ],
   "source": [
    "s"
   ]
  },
  {
   "cell_type": "code",
   "execution_count": 10,
   "metadata": {
    "collapsed": false
   },
   "outputs": [
    {
     "name": "stdout",
     "output_type": "stream",
     "text": [
      "0.0536\n",
      "0.9808\n"
     ]
    }
   ],
   "source": [
    "# sp = 73.29 - 0.48S = 123.55 - 1.04U\n",
    "# 1.04u +73.29 = 0.48s +123.55\n",
    "# 1.04u = 0.48s + (123.55 - 73.29)\n",
    "\n",
    "# U = 49.27 + 0.41S\n",
    "\n",
    "# print 1.04*49.27 \n",
    "# 1.04*0.41#S\n",
    "\n",
    "# 1.04u = 51.2408+0.4264s\n",
    "\n",
    "# 0.48s + (123.55 - 73.29) = 51.2408+0.4264s\n",
    "\n",
    "\n",
    "\n",
    "\n",
    "# (0.48-0.4264)s = 51.2408-(123.55 - 73.29)\n",
    "print (0.48-0.4264)\n",
    "print 51.2408-(123.55 - 73.29)\n",
    "0.0536s = 0.9808"
   ]
  },
  {
   "cell_type": "code",
   "execution_count": 6,
   "metadata": {
    "collapsed": false
   },
   "outputs": [
    {
     "name": "stdout",
     "output_type": "stream",
     "text": [
      "s 18.2985074627\n",
      "u 56.7723880597\n",
      "sp 64.5067164179\n",
      "sp 64.5067164179\n"
     ]
    }
   ],
   "source": [
    "print 's',s\n",
    "u = 49.27 + (s*0.41)\n",
    "print 'u', u\n",
    "sp = 73.29 - 0.48*s\n",
    "print 'sp',sp\n",
    "sp = 123.55 - 1.04*u\n",
    "print 'sp',sp"
   ]
  },
  {
   "cell_type": "code",
   "execution_count": null,
   "metadata": {
    "collapsed": true
   },
   "outputs": [],
   "source": [
    "U = 49.27 + 0.41S\n",
    "SP = 73.29 - 0.48S\n",
    "SP = 123.55 - 1.04U 이거고요 ㅋㅋㅋㅋ\n"
   ]
  }
 ],
 "metadata": {
  "anaconda-cloud": {},
  "kernelspec": {
   "display_name": "Python [default]",
   "language": "python",
   "name": "python2"
  },
  "language_info": {
   "codemirror_mode": {
    "name": "ipython",
    "version": 2
   },
   "file_extension": ".py",
   "mimetype": "text/x-python",
   "name": "python",
   "nbconvert_exporter": "python",
   "pygments_lexer": "ipython2",
   "version": "2.7.13"
  }
 },
 "nbformat": 4,
 "nbformat_minor": 2
}
