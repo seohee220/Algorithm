{
 "cells": [
  {
   "cell_type": "code",
   "execution_count": 120,
   "metadata": {
    "collapsed": true
   },
   "outputs": [],
   "source": [
    "import time\n",
    "import random\n",
    "from copy import deepcopy"
   ]
  },
  {
   "cell_type": "code",
   "execution_count": 48,
   "metadata": {
    "collapsed": true
   },
   "outputs": [],
   "source": [
    "def swap(a,b):\n",
    "    a,b = b,a\n",
    "    global swapCnt; swapCnt+=1\n",
    "    return a,b"
   ]
  },
  {
   "cell_type": "markdown",
   "metadata": {},
   "source": [
    "## Make and Read Unsorted List File"
   ]
  },
  {
   "cell_type": "code",
   "execution_count": 40,
   "metadata": {
    "collapsed": true
   },
   "outputs": [],
   "source": [
    "def makeFile(n):\n",
    "    f = open('./unsor.txt','w')\n",
    "    numList = [i for i in range(1,n+1)]\n",
    "    random.shuffle(numList)\n",
    "    for i in numList:\n",
    "        f.write(str(i)+\"\\n\")\n",
    "    f.close()\n",
    "\n",
    "def readFile(n):\n",
    "    f = open('./unsor.txt','r')\n",
    "    unsorted = [int(f.readline()) for i in range(n)]\n",
    "    f.close()\n",
    "    return unsorted"
   ]
  },
  {
   "cell_type": "code",
   "execution_count": 262,
   "metadata": {
    "collapsed": false
   },
   "outputs": [],
   "source": [
    "n = 100000\n",
    "makeFile(n)\n",
    "unsorted = readFile(n)\n",
    "# print unsorted"
   ]
  },
  {
   "cell_type": "markdown",
   "metadata": {},
   "source": [
    "### Quck Sort"
   ]
  },
  {
   "cell_type": "code",
   "execution_count": 230,
   "metadata": {
    "collapsed": true
   },
   "outputs": [],
   "source": [
    "def quick(unsorted,s,e):\n",
    "    global compareCnt\n",
    "    if e-s<1: \n",
    "        return unsorted\n",
    "    lenOfUns = len(unsorted)\n",
    "    pivot = unsorted[random.randrange(lenOfUns)]\n",
    "    i=0;j=lenOfUns-2\n",
    "    while i<j:\n",
    "        compareCnt+=1\n",
    "        while unsorted[i]<pivot and i<lenOfUns: \n",
    "            compareCnt+=1\n",
    "            i+=1\n",
    "        while unsorted[j]>pivot and j>=0: \n",
    "            compareCnt+=1\n",
    "            j-=1\n",
    "        if i>=j: \n",
    "            break\n",
    "        unsorted[i],unsorted[j] = swap(unsorted[i],unsorted[j])\n",
    "    if i==0 and j==lenOfUns-2:\n",
    "        return unsorted\n",
    "    unsorted[i],unsorted[lenOfUns-1] = swap(unsorted[i],pivot)\n",
    "    sorted = quick(unsorted[:i],0,i-1)+unsorted[i:i+1]+quick(unsorted[i+1:],0,e-i-1)\n",
    "    return sorted\n"
   ]
  },
  {
   "cell_type": "code",
   "execution_count": 263,
   "metadata": {
    "collapsed": false
   },
   "outputs": [
    {
     "name": "stdout",
     "output_type": "stream",
     "text": [
      "quick\n",
      "insert CPU TIME : 0.90687\n",
      "swapCnt 557114\n",
      "compareCnt 2442782\n"
     ]
    }
   ],
   "source": [
    "print \"quick\"\n",
    "# print unsorted\n",
    "global swapCnt; swapCnt=0\n",
    "global compareCnt; compareCnt=0\n",
    "start = time.clock()\n",
    "quick(unsorted,0,len(unsorted)-1)\n",
    "elapsed = time.clock() - start\n",
    "print \"insert CPU TIME :\", elapsed\n",
    "print \"swapCnt\", swapCnt\n",
    "print \"compareCnt\", compareCnt"
   ]
  },
  {
   "cell_type": "markdown",
   "metadata": {},
   "source": [
    "### Quck Refinement Sort"
   ]
  },
  {
   "cell_type": "code",
   "execution_count": 228,
   "metadata": {
    "collapsed": false
   },
   "outputs": [],
   "source": [
    "def quick_refined(unsorted,s,e):\n",
    "    global compareCnt\n",
    "    if e-s<1: \n",
    "        return unsorted\n",
    "    lenOfUns = len(unsorted)\n",
    "    pivot = unsorted[lenOfUns-1]\n",
    "    i=0;j=lenOfUns-2\n",
    "    while i<j:\n",
    "        compareCnt+=1\n",
    "        while unsorted[i]<pivot and i<lenOfUns: \n",
    "            compareCnt+=1\n",
    "            i+=1\n",
    "        while unsorted[j]>pivot and j>=0: \n",
    "            compareCnt+=1\n",
    "            j-=1\n",
    "        if i>=j: \n",
    "            compareCnt+=1\n",
    "            break\n",
    "        unsorted[i],unsorted[j] = swap(unsorted[i],unsorted[j])\n",
    "    if i==0 and j==lenOfUns-2:\n",
    "        return unsorted\n",
    "    unsorted[i],unsorted[lenOfUns-1] = swap(unsorted[i],pivot)\n",
    "    sorted = quick_refined(unsorted[:i],0,i-1)+unsorted[i:i+1]+quick_refined(unsorted[i+1:],0,e-i-1)\n",
    "#     sorted = quick(unsorted[:i],0,i)+unsorted[i:i+1]+quick(unsorted[i+1:],0,e-i-1)\n",
    "    return sorted\n"
   ]
  },
  {
   "cell_type": "code",
   "execution_count": 264,
   "metadata": {
    "collapsed": false
   },
   "outputs": [
    {
     "name": "stdout",
     "output_type": "stream",
     "text": [
      "Quick Refinement\n",
      "insert CPU TIME : 0.752132\n",
      "swapCnt 356686\n",
      "compareCnt 2495435\n"
     ]
    }
   ],
   "source": [
    "print \"Quick Refinement\"\n",
    "us = deepcopy(unsorted)\n",
    "# print us\n",
    "global swapCnt; swapCnt=0\n",
    "global compareCnt; compareCnt=0\n",
    "start = time.clock()\n",
    "quick_refined(us,0,len(unsorted)-1)\n",
    "elapsed = time.clock() - start\n",
    "print \"insert CPU TIME :\", elapsed\n",
    "print \"swapCnt\", swapCnt\n",
    "print \"compareCnt\", compareCnt"
   ]
  },
  {
   "cell_type": "markdown",
   "metadata": {},
   "source": [
    "### Insertion Sort"
   ]
  },
  {
   "cell_type": "code",
   "execution_count": 109,
   "metadata": {
    "collapsed": true
   },
   "outputs": [],
   "source": [
    "def insertion(unsorted):\n",
    "    global compareCnt\n",
    "    sort = deepcopy(unsorted)\n",
    "    for i in range(1,len(sort)):\n",
    "        for j in range(i,0,-1):\n",
    "            compareCnt+=1\n",
    "            if sort[j-1] > sort[j]:\n",
    "                sort[j-1],sort[j] = swap(sort[j-1],sort[j])\n",
    "#                 unsorted[j-1],unsorted[j] = unsorted[j],unsorted[j-1]\n",
    "    return sort"
   ]
  },
  {
   "cell_type": "code",
   "execution_count": 267,
   "metadata": {
    "collapsed": false
   },
   "outputs": [
    {
     "name": "stdout",
     "output_type": "stream",
     "text": [
      "Insertion\n"
     ]
    },
    {
     "ename": "KeyboardInterrupt",
     "evalue": "",
     "output_type": "error",
     "traceback": [
      "\u001b[0;31m---------------------------------------------------------------------------\u001b[0m",
      "\u001b[0;31mKeyboardInterrupt\u001b[0m                         Traceback (most recent call last)",
      "\u001b[0;32m<ipython-input-267-7898bcef05e7>\u001b[0m in \u001b[0;36m<module>\u001b[0;34m()\u001b[0m\n\u001b[1;32m      4\u001b[0m \u001b[0;32mglobal\u001b[0m \u001b[0mcompareCnt\u001b[0m\u001b[0;34m;\u001b[0m \u001b[0mcompareCnt\u001b[0m\u001b[0;34m=\u001b[0m\u001b[0;36m0\u001b[0m\u001b[0;34m\u001b[0m\u001b[0m\n\u001b[1;32m      5\u001b[0m \u001b[0mstart\u001b[0m \u001b[0;34m=\u001b[0m \u001b[0mtime\u001b[0m\u001b[0;34m.\u001b[0m\u001b[0mclock\u001b[0m\u001b[0;34m(\u001b[0m\u001b[0;34m)\u001b[0m\u001b[0;34m\u001b[0m\u001b[0m\n\u001b[0;32m----> 6\u001b[0;31m \u001b[0minsertion\u001b[0m\u001b[0;34m(\u001b[0m\u001b[0munsorted\u001b[0m\u001b[0;34m)\u001b[0m\u001b[0;34m\u001b[0m\u001b[0m\n\u001b[0m\u001b[1;32m      7\u001b[0m \u001b[0melapsed\u001b[0m \u001b[0;34m=\u001b[0m \u001b[0mtime\u001b[0m\u001b[0;34m.\u001b[0m\u001b[0mclock\u001b[0m\u001b[0;34m(\u001b[0m\u001b[0;34m)\u001b[0m \u001b[0;34m-\u001b[0m \u001b[0mstart\u001b[0m\u001b[0;34m\u001b[0m\u001b[0m\n\u001b[1;32m      8\u001b[0m \u001b[0;32mprint\u001b[0m \u001b[0;34m\"insert CPU TIME :\"\u001b[0m\u001b[0;34m,\u001b[0m \u001b[0melapsed\u001b[0m\u001b[0;34m\u001b[0m\u001b[0m\n",
      "\u001b[0;32m<ipython-input-109-0a38debc5eb6>\u001b[0m in \u001b[0;36minsertion\u001b[0;34m(unsorted)\u001b[0m\n\u001b[1;32m      6\u001b[0m             \u001b[0mcompareCnt\u001b[0m\u001b[0;34m+=\u001b[0m\u001b[0;36m1\u001b[0m\u001b[0;34m\u001b[0m\u001b[0m\n\u001b[1;32m      7\u001b[0m             \u001b[0;32mif\u001b[0m \u001b[0msort\u001b[0m\u001b[0;34m[\u001b[0m\u001b[0mj\u001b[0m\u001b[0;34m-\u001b[0m\u001b[0;36m1\u001b[0m\u001b[0;34m]\u001b[0m \u001b[0;34m>\u001b[0m \u001b[0msort\u001b[0m\u001b[0;34m[\u001b[0m\u001b[0mj\u001b[0m\u001b[0;34m]\u001b[0m\u001b[0;34m:\u001b[0m\u001b[0;34m\u001b[0m\u001b[0m\n\u001b[0;32m----> 8\u001b[0;31m                 \u001b[0msort\u001b[0m\u001b[0;34m[\u001b[0m\u001b[0mj\u001b[0m\u001b[0;34m-\u001b[0m\u001b[0;36m1\u001b[0m\u001b[0;34m]\u001b[0m\u001b[0;34m,\u001b[0m\u001b[0msort\u001b[0m\u001b[0;34m[\u001b[0m\u001b[0mj\u001b[0m\u001b[0;34m]\u001b[0m \u001b[0;34m=\u001b[0m \u001b[0mswap\u001b[0m\u001b[0;34m(\u001b[0m\u001b[0msort\u001b[0m\u001b[0;34m[\u001b[0m\u001b[0mj\u001b[0m\u001b[0;34m-\u001b[0m\u001b[0;36m1\u001b[0m\u001b[0;34m]\u001b[0m\u001b[0;34m,\u001b[0m\u001b[0msort\u001b[0m\u001b[0;34m[\u001b[0m\u001b[0mj\u001b[0m\u001b[0;34m]\u001b[0m\u001b[0;34m)\u001b[0m\u001b[0;34m\u001b[0m\u001b[0m\n\u001b[0m\u001b[1;32m      9\u001b[0m \u001b[0;31m#                 unsorted[j-1],unsorted[j] = unsorted[j],unsorted[j-1]\u001b[0m\u001b[0;34m\u001b[0m\u001b[0;34m\u001b[0m\u001b[0m\n\u001b[1;32m     10\u001b[0m     \u001b[0;32mreturn\u001b[0m \u001b[0msort\u001b[0m\u001b[0;34m\u001b[0m\u001b[0m\n",
      "\u001b[0;31mKeyboardInterrupt\u001b[0m: "
     ]
    }
   ],
   "source": [
    "print \"Insertion\"\n",
    "# print unsorted\n",
    "global swapCnt; swapCnt=0\n",
    "global compareCnt; compareCnt=0\n",
    "start = time.clock()\n",
    "insertion(unsorted)\n",
    "elapsed = time.clock() - start\n",
    "print \"insert CPU TIME :\", elapsed\n",
    "print \"swapCnt\", swapCnt\n",
    "print \"compareCnt\", compareCnt"
   ]
  },
  {
   "cell_type": "markdown",
   "metadata": {},
   "source": [
    "### Merge Sort"
   ]
  },
  {
   "cell_type": "code",
   "execution_count": 112,
   "metadata": {
    "collapsed": true
   },
   "outputs": [],
   "source": [
    "def merge(unsorted, s, e):\n",
    "    global compareCnt\n",
    "    if len(unsorted)<=1:\n",
    "        return unsorted\n",
    "    else:\n",
    "        s=0\n",
    "        e=e-s\n",
    "        mid = ((s+e)/2)\n",
    "        a = merge(unsorted[s:mid], s, mid)\n",
    "        b = merge(unsorted[mid:e], mid, e)\n",
    "        c = []\n",
    "        i=0; j=0\n",
    "        while i<len(a) and j<len(b):\n",
    "            compareCnt+=1\n",
    "            if a[i] < b[j]:\n",
    "                c.append(a[i])\n",
    "                i+=1\n",
    "            else:\n",
    "                c.append(b[j])\n",
    "                j+=1\n",
    "        c = c+a[i:]+b[j:]\n",
    "        return c"
   ]
  },
  {
   "cell_type": "code",
   "execution_count": 265,
   "metadata": {
    "collapsed": false
   },
   "outputs": [
    {
     "name": "stdout",
     "output_type": "stream",
     "text": [
      "Merge\n",
      "insert CPU TIME : 0.976281\n",
      "compareCnt 1613478\n"
     ]
    }
   ],
   "source": [
    "print \"Merge\"\n",
    "# print unsorted\n",
    "global compareCnt; compareCnt=0\n",
    "start = time.clock()\n",
    "merge(unsorted,0,len(unsorted))\n",
    "elapsed = time.clock() - start\n",
    "print \"insert CPU TIME :\", elapsed\n",
    "print \"compareCnt\", compareCnt"
   ]
  },
  {
   "cell_type": "markdown",
   "metadata": {},
   "source": [
    "### Radix sort"
   ]
  },
  {
   "cell_type": "code",
   "execution_count": 64,
   "metadata": {
    "collapsed": false
   },
   "outputs": [],
   "source": [
    "def checkMaxDigit(unsorted):\n",
    "    max=0\n",
    "    for us in unsorted:\n",
    "        if us > max: \n",
    "            max=us\n",
    "    return checkDigit(max)\n",
    "\n",
    "def checkDigit(num):\n",
    "    digit=0\n",
    "    while num!=0:\n",
    "        num = num/10\n",
    "        digit+=1\n",
    "    return digit\n",
    "\n",
    "def iDigitNum(num, i):\n",
    "    return ( num/(10**(i)) )%10\n",
    "    \n",
    "\n",
    "def radix(unsorted):\n",
    "    idxList = [[] for i in range(10)]\n",
    "    maxDigit = checkMaxDigit(unsorted)\n",
    "    \n",
    "    for d in range(maxDigit+1):\n",
    "        if d==0:\n",
    "            for us in unsorted:\n",
    "                idx = iDigitNum(us, d)\n",
    "                idxList[idx].append(us)\n",
    "        else:\n",
    "            sortList = [[] for i in range(10)]\n",
    "            for il in idxList:\n",
    "                for j in il:\n",
    "                    idx = iDigitNum(j, d)\n",
    "                    sortList[idx].append(j)\n",
    "            idxList = sortList\n",
    "    return idxList[0]"
   ]
  },
  {
   "cell_type": "code",
   "execution_count": 266,
   "metadata": {
    "collapsed": false
   },
   "outputs": [
    {
     "name": "stdout",
     "output_type": "stream",
     "text": [
      "Radix\n",
      "insert CPU TIME : 0.293137\n"
     ]
    }
   ],
   "source": [
    "print \"Radix\"\n",
    "# print unsorted\n",
    "start = time.clock()\n",
    "radix(unsorted)\n",
    "elapsed = time.clock() - start\n",
    "print \"insert CPU TIME :\", elapsed"
   ]
  }
 ],
 "metadata": {
  "kernelspec": {
   "display_name": "Python 2",
   "language": "python",
   "name": "python2"
  },
  "language_info": {
   "codemirror_mode": {
    "name": "ipython",
    "version": 2
   },
   "file_extension": ".py",
   "mimetype": "text/x-python",
   "name": "python",
   "nbconvert_exporter": "python",
   "pygments_lexer": "ipython2",
   "version": "2.7.11"
  }
 },
 "nbformat": 4,
 "nbformat_minor": 0
}
